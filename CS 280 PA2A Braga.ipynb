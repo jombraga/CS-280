{
 "cells": [
  {
   "cell_type": "markdown",
   "metadata": {},
   "source": [
    "##### Run on Windows 10 using Anaconda 3"
   ]
  },
  {
   "cell_type": "markdown",
   "metadata": {},
   "source": [
    "# Porting MATLAB Code"
   ]
  },
  {
   "cell_type": "code",
   "execution_count": 1,
   "metadata": {},
   "outputs": [],
   "source": [
    "import numpy as np\n",
    "import matplotlib.pyplot as plt"
   ]
  },
  {
   "cell_type": "markdown",
   "metadata": {},
   "source": [
    "### Defining the ANN Architecture"
   ]
  },
  {
   "cell_type": "code",
   "execution_count": 2,
   "metadata": {},
   "outputs": [],
   "source": [
    "n_in = 3  # input layer\n",
    "n_h1 = 7  # hidden layer 1\n",
    "n_h2 = 5  # hidden layer 2\n",
    "n_out = 3 # output layer"
   ]
  },
  {
   "cell_type": "markdown",
   "metadata": {},
   "source": [
    "### Defining Parameters"
   ]
  },
  {
   "cell_type": "code",
   "execution_count": 3,
   "metadata": {},
   "outputs": [],
   "source": [
    "x_in = np.zeros((n_in,1)) # initializing the input\n",
    "w_h1 = -0.1+(0.1+0.1)*np.random.uniform(0,1, size=(n_h1,n_in))      # weight of hidden layer 1\n",
    "b_h1 = -0.1+(0.1+0.1)*np.random.uniform(0,1, size=(n_h1,1))         # bias of hidden layer 1\n",
    "w_h2 = -0.1+(0.1+0.1)*np.random.uniform(0,1, size=(n_h2,n_h1))      # weight of hidden layer 2\n",
    "b_h2 = -0.1+(0.1+0.1)*np.random.uniform(0,1, size=(n_h2,1))         # bias of hidden layer 2\n",
    "w_out = -0.1+(0.1+0.1)*np.random.uniform(0,1, size=(n_out,n_h2))    # weight of output layer \n",
    "b_out = -0.1+(0.1+0.1)*np.random.uniform(0,1, size=(n_out,1))       # bias of output layer \n",
    "d_out = np.zeros((n_out,1)) # initializing the output\n",
    "\n",
    "eta = 0.1  # learning rate"
   ]
  },
  {
   "cell_type": "markdown",
   "metadata": {},
   "source": [
    "### Training Data"
   ]
  },
  {
   "cell_type": "code",
   "execution_count": 4,
   "metadata": {},
   "outputs": [],
   "source": [
    "N = 8\n",
    "\n",
    "# input data\n",
    "X = np.array([[0, 0, 0], \n",
    "               [0, 0, 1], \n",
    "               [0,1, 0],\n",
    "               [0, 1, 1],\n",
    "               [1, 0, 0],\n",
    "               [ 1, 0, 1],\n",
    "               [ 1, 1, 0],\n",
    "               [1, 1, 1]])\n",
    "\n",
    "# output data\n",
    "Y = np.array([[0, 0, 0],\n",
    "               [1, 1, 0],\n",
    "               [1, 0, 1],\n",
    "               [0, 1, 1],\n",
    "               [0, 1, 1],\n",
    "               [1, 0, 0],\n",
    "               [1, 1, 0],\n",
    "               [0, 0, 0]])"
   ]
  },
  {
   "cell_type": "markdown",
   "metadata": {},
   "source": [
    "### Training Phase"
   ]
  },
  {
   "cell_type": "code",
   "execution_count": 5,
   "metadata": {},
   "outputs": [
    {
     "name": "stdout",
     "output_type": "stream",
     "text": [
      "Iteration:  0  Error:  [0.8165796]\n",
      "Iteration:  500  Error:  [0.91712163]\n",
      "Iteration:  1000  Error:  [0.90803878]\n",
      "Iteration:  1500  Error:  [0.65133783]\n",
      "Iteration:  2000  Error:  [0.90326571]\n",
      "Iteration:  2500  Error:  [0.65142133]\n",
      "Iteration:  3000  Error:  [0.8670409]\n",
      "Iteration:  3500  Error:  [0.96786719]\n",
      "Iteration:  4000  Error:  [0.58578424]\n",
      "Iteration:  4500  Error:  [1.30883678]\n",
      "Iteration:  5000  Error:  [0.52718481]\n",
      "Iteration:  5500  Error:  [0.56277244]\n",
      "Iteration:  6000  Error:  [0.56658292]\n",
      "Iteration:  6500  Error:  [0.52342745]\n",
      "Iteration:  7000  Error:  [0.53405724]\n",
      "Iteration:  7500  Error:  [0.20013362]\n",
      "Iteration:  8000  Error:  [0.0697048]\n",
      "Iteration:  8500  Error:  [0.50221949]\n",
      "Iteration:  9000  Error:  [0.01237998]\n",
      "Iteration:  9500  Error:  [0.05794691]\n",
      "Iteration:  10000  Error:  [0.07397142]\n",
      "Iteration:  10500  Error:  [0.02478755]\n",
      "Iteration:  11000  Error:  [0.02357331]\n",
      "Iteration:  11500  Error:  [0.03712474]\n",
      "Iteration:  12000  Error:  [0.00486349]\n",
      "Iteration:  12500  Error:  [0.01387862]\n",
      "Iteration:  13000  Error:  [0.00401583]\n",
      "Iteration:  13500  Error:  [0.01582451]\n",
      "Iteration:  14000  Error:  [0.00446722]\n",
      "Iteration:  14500  Error:  [0.00300719]\n",
      "Iteration:  15000  Error:  [0.01095051]\n",
      "Iteration:  15500  Error:  [0.00316452]\n",
      "Iteration:  16000  Error:  [0.00903996]\n",
      "Iteration:  16500  Error:  [0.00488379]\n",
      "Iteration:  17000  Error:  [0.00139351]\n",
      "Iteration:  17500  Error:  [0.00225581]\n",
      "Iteration:  18000  Error:  [0.00210159]\n",
      "Iteration:  18500  Error:  [0.00196602]\n",
      "Iteration:  19000  Error:  [0.0016957]\n"
     ]
    }
   ],
   "source": [
    "max_epoch = 30000;    # number of epochs\n",
    "totalerr = np.zeros((max_epoch, 1))   # initializing error vector\n",
    "\n",
    "for q in range(max_epoch):\n",
    "    \n",
    "    p = np.random.permutation(N)   # randomized the order of data\n",
    "    \n",
    "    for n in range(N):\n",
    "        nn = p[n]\n",
    "        \n",
    "        x_in = X[nn,:][:,None]\n",
    "        d_out = Y[nn,:][:, None]\n",
    "        \n",
    "    # Forward pass\n",
    "        # Hidden layer 1\n",
    "        v_h1 = np.matmul(w_h1, x_in) + b_h1\n",
    "        y_h1 = 1/(1 + np.exp(-v_h1))\n",
    "        \n",
    "        # Hidden Layer 2\n",
    "        v_h2 = np.matmul(w_h2, y_h1) + b_h2\n",
    "        y_h2 = 1/(1 + np.exp(-v_h2))\n",
    "        \n",
    "        # Output Layer\n",
    "        v_out = np.matmul(w_out, y_h2) + b_out\n",
    "        out = 1/(1 + np.exp(-v_out))\n",
    "        \n",
    "    # Backpropagation\n",
    "        # compute error\n",
    "        err = d_out - out\n",
    "        \n",
    "        # compute gradient in the output layer\n",
    "        delta_out = np.multiply(np.multiply(err, out), 1-out)\n",
    "        \n",
    "        # compute gradient in hidden layer 2\n",
    "        delta_h2 = np.multiply(np.multiply(y_h2, 1-y_h2), np.matmul(w_out.transpose(), delta_out))\n",
    "        \n",
    "        # compute gradeint in hidden layer 1\n",
    "        delta_h1 = np.multiply(np.multiply(y_h1, 1-y_h1), np.matmul(w_h2.transpose(), delta_h2))\n",
    "        \n",
    "        # update the weights and biases of output layer\n",
    "        w_out = w_out + eta * np.matmul(delta_out, y_h2.transpose())\n",
    "        b_out = b_out + eta * delta_out\n",
    "        \n",
    "        # update the weights and biases of hidden layer 2\n",
    "        w_h2 = w_h2 + eta * np.matmul(delta_h2, y_h1.transpose()) \n",
    "        b_h2 = b_h2 + eta * delta_h2\n",
    "        \n",
    "        # update the weights and biases of hidden layer 1\n",
    "        w_h1 = w_h1 + eta * np.matmul(delta_h1, x_in.T)\n",
    "        b_h1 = b_h1 + eta * delta_h1\n",
    "        \n",
    "    totalerr[q] += np.sum(np.multiply(err, err))\n",
    "    \n",
    "    # Print the error every 500th iteration\n",
    "    if np.mod(q, 500) == 0:\n",
    "        print('Iteration: ', q ,' Error: ', totalerr[q])\n",
    "    \n",
    "    # Stopping criterion\n",
    "    if totalerr[q] < 0.001:\n",
    "        break"
   ]
  },
  {
   "cell_type": "markdown",
   "metadata": {},
   "source": [
    "### Test Phase"
   ]
  },
  {
   "cell_type": "code",
   "execution_count": 6,
   "metadata": {},
   "outputs": [
    {
     "name": "stdout",
     "output_type": "stream",
     "text": [
      "[0, 0, 0] [0.0, 0.0, 0.0]\n",
      "[0, 0, 1] [1.0, 1.0, 0.0]\n",
      "[0, 1, 0] [1.0, 0.0, 1.0]\n",
      "[0, 1, 1] [0.0, 1.0, 1.0]\n",
      "[1, 0, 0] [0.0, 1.0, 1.0]\n",
      "[1, 0, 1] [1.0, 0.0, 0.0]\n",
      "[1, 1, 0] [1.0, 1.0, 0.0]\n",
      "[1, 1, 1] [0.0, 0.0, 0.0]\n",
      "Total bits with error:  0.0\n",
      "Total epochs:  19207\n",
      "Network error at termination:  [0.00099932]\n"
     ]
    }
   ],
   "source": [
    "nn_output = np.zeros(Y.shape)\n",
    "\n",
    "for n in range(N):\n",
    "    x_in = X[n,:][:, None]\n",
    "    d_out = Y[n,:][:,None]\n",
    "    \n",
    "    # hidden layer 1\n",
    "    v_h1 = np.matmul(w_h1, x_in) + b_h1\n",
    "    y_h1 = 1/(1 + np.exp(-v_h1))\n",
    "    \n",
    "    # hidden layer 2\n",
    "    v_h2 = np.matmul(w_h2, y_h1) + b_h2\n",
    "    y_h2 = 1/(1 + np.exp(-v_h2))\n",
    "    \n",
    "    # output layer\n",
    "    v_out = np.matmul(w_out, y_h2) + b_out\n",
    "    out = 1/(1 + np.exp(-v_out))\n",
    "    nn_output[n,:] = 1*np.greater(out.transpose(), 0.5)\n",
    "    \n",
    "    # print the input-ouput pairs\n",
    "    x_in = x_in.transpose().tolist()\n",
    "    x_in = [x for x_in_sub in x_in for x in x_in_sub]\n",
    "    print(x_in, nn_output[n,:].tolist())\n",
    "    \n",
    "print('Total bits with error: ', np.sum(np.sum(np.absolute(Y - nn_output))))\n",
    "print('Total epochs: ', q)\n",
    "print('Network error at termination: ', totalerr[q])"
   ]
  },
  {
   "cell_type": "code",
   "execution_count": 7,
   "metadata": {},
   "outputs": [
    {
     "data": {
      "image/png": "[encoded data removed]",
      "text/plain": [
       "<Figure size 432x288 with 1 Axes>"
      ]
     },
     "metadata": {
      "needs_background": "light"
     },
     "output_type": "display_data"
    }
   ],
   "source": [
    "# Error Graph\n",
    "plt.plot(totalerr)\n",
    "plt.show()"
   ]
  },
  {
   "cell_type": "markdown",
   "metadata": {},
   "source": [
    "# PA2A: Implementation of the Backpropagation Algorithm, Performance\tComparison with\tSVM"
   ]
  },
  {
   "cell_type": "markdown",
   "metadata": {},
   "source": [
    "## Data Prepocessing"
   ]
  },
  {
   "cell_type": "markdown",
   "metadata": {},
   "source": [
    "#### Data Import and Visualization"
   ]
  },
  {
   "cell_type": "code",
   "execution_count": 5,
   "metadata": {
    "scrolled": true
   },
   "outputs": [
    {
     "data": {
      "text/plain": [
       "<BarContainer object of 8 artists>"
      ]
     },
     "execution_count": 5,
     "metadata": {},
     "output_type": "execute_result"
    },
    {
     "data": {
      "image/png": "[encoded data removed]",
      "text/plain": [
       "<Figure size 432x288 with 1 Axes>"
      ]
     },
     "metadata": {
      "needs_background": "light"
     },
     "output_type": "display_data"
    }
   ],
   "source": [
    "import csv\n",
    "\n",
    "data_labels = open('data_labels.csv')  # import data\n",
    "data_points = open('data.csv')\n",
    "labels = list(csv.reader(data_labels))  # conbvert to list\n",
    "labels = [label for sublist in labels for label in sublist]   #convert a list of list to list\n",
    "\n",
    "counts = np.bincount(labels)\n",
    "counts = counts.tolist()\n",
    "counts.pop(0)\n",
    "plt.bar(range(1,len(counts) + 1), counts)"
   ]
  },
  {
   "cell_type": "markdown",
   "metadata": {},
   "source": [
    "The data is highly imbalanced. Training on this dataset will cause the neural network to 'favor' Class 1. One of the solutions is to oversample the minority classes.\n",
    "Before oversampling, split the data to train and test sets. This ensures that the network will test on data it has not seen before."
   ]
  },
  {
   "cell_type": "markdown",
   "metadata": {},
   "source": [
    "#### Train, Validation, and Test Split"
   ]
  },
  {
   "cell_type": "markdown",
   "metadata": {},
   "source": [
    "Before splitting, convert the data class to numpy array, then concatenate them."
   ]
  },
  {
   "cell_type": "code",
   "execution_count": 6,
   "metadata": {},
   "outputs": [],
   "source": [
    "data = np.array(list(csv.reader(data_points)), dtype=float) # convert features to numpy array\n",
    "labels = np.array(labels, dtype=float) # convert labels to numpy array   \n",
    "labels = labels[:,None] # the output of the last line is a horizontal vector. what is needed is vertical. \n",
    "# unlike MATLAB, Numpy transpose does not invert the dimensions of 1D array. [:, None] accomplishes the transpose of 1D array\n",
    "cmplt_data = np.asarray(np.concatenate((labels, data), axis=1))  # concatenate the two matrices"
   ]
  },
  {
   "cell_type": "markdown",
   "metadata": {},
   "source": [
    "Now sort the data according to labels"
   ]
  },
  {
   "cell_type": "code",
   "execution_count": 7,
   "metadata": {},
   "outputs": [],
   "source": [
    "cmplt_data = cmplt_data[cmplt_data[:,0].argsort()]"
   ]
  },
  {
   "cell_type": "markdown",
   "metadata": {},
   "source": [
    "Now, split the data into 60% train, 20% validation, and 20% test sets by stratified sampling"
   ]
  },
  {
   "cell_type": "code",
   "execution_count": 8,
   "metadata": {},
   "outputs": [],
   "source": [
    "# Initialize the data split containers\n",
    "width = len(data.T)\n",
    "train_data = np.empty((0,width), float)\n",
    "train_label = np.empty((0,1), float)\n",
    "validate_data = np.empty((0,width), float)\n",
    "validate_label = np.empty((0,1), float)\n",
    "test_data = np.empty((0,width), float)\n",
    "test_label = np.empty((0,1), float)"
   ]
  },
  {
   "cell_type": "code",
   "execution_count": 9,
   "metadata": {},
   "outputs": [],
   "source": [
    "# Extract the data\n",
    "first_index = 0\n",
    "for count in counts:\n",
    "    category = cmplt_data[first_index:(first_index + count), :]  # get the set corresponding to each label\n",
    "    first_index += count\n",
    "    \n",
    "\n",
    "    n_train = int(np.round(0.6 * len(category)))  # count of 60% training\n",
    "    n_validate = int(np.round(0.2 * len(category))) # count of 20% validation\n",
    "    n_test = int(len(category) - n_train - n_validate) # count of 20% test\n",
    "\n",
    "    np.random.shuffle(category)  # randomized the order of the data\n",
    "    train_d, validate_d, test_d = np.split(category[:,1:],[n_train, n_train+n_validate]) # split the data into three\n",
    "    train_l, validate_l, test_l = np.split(category[:,0],[n_train, n_train+n_validate])  # split the labels into three\n",
    "    \n",
    "    # assign the extracted data to their respective variables\n",
    "    train_data = np.concatenate((train_data, train_d))\n",
    "    train_label = np.concatenate((train_label, train_l[:, None]))\n",
    "    validate_data = np.concatenate((validate_data, validate_d))\n",
    "    validate_label = np.concatenate((validate_label, validate_l[:, None]))\n",
    "    test_data = np.concatenate((test_data, test_d))\n",
    "    test_label = np.concatenate((test_label, test_l[:, None]))"
   ]
  },
  {
   "cell_type": "markdown",
   "metadata": {},
   "source": [
    "#### Oversampling"
   ]
  },
  {
   "cell_type": "markdown",
   "metadata": {},
   "source": [
    "Now that the data has been split, oversample each set using SMOTE."
   ]
  },
  {
   "cell_type": "code",
   "execution_count": 20,
   "metadata": {},
   "outputs": [],
   "source": [
    "from imblearn.over_sampling import SMOTE\n",
    "\n",
    "oversample = SMOTE()\n",
    "train_data_res, train_label_res = oversample.fit_resample(train_data, train_label)\n",
    "validate_data_res, validate_label_res = oversample.fit_resample(validate_data, validate_label)\n",
    "test_data_res, test_label_res = oversample.fit_resample(test_data, test_label)"
   ]
  },
  {
   "cell_type": "code",
   "execution_count": 28,
   "metadata": {},
   "outputs": [
    {
     "data": {
      "text/plain": [
       "<BarContainer object of 8 artists>"
      ]
     },
     "execution_count": 28,
     "metadata": {},
     "output_type": "execute_result"
    },
    {
     "data": {
      "image/png": "[encoded data removed]",
      "text/plain": [
       "<Figure size 432x288 with 1 Axes>"
      ]
     },
     "metadata": {
      "needs_background": "light"
     },
     "output_type": "display_data"
    }
   ],
   "source": [
    "# training set distribution\n",
    "num, freq = np.unique(train_label_res, return_counts=True)\n",
    "plt.bar(num, freq)"
   ]
  },
  {
   "cell_type": "code",
   "execution_count": 30,
   "metadata": {},
   "outputs": [
    {
     "data": {
      "text/plain": [
       "<BarContainer object of 8 artists>"
      ]
     },
     "execution_count": 30,
     "metadata": {},
     "output_type": "execute_result"
    },
    {
     "data": {
      "image/png": "[encoded data removed]",
      "text/plain": [
       "<Figure size 432x288 with 1 Axes>"
      ]
     },
     "metadata": {
      "needs_background": "light"
     },
     "output_type": "display_data"
    }
   ],
   "source": [
    "# validation set distribution\n",
    "num, freq = np.unique(validate_label_res, return_counts=True)\n",
    "plt.bar(num, freq)"
   ]
  },
  {
   "cell_type": "code",
   "execution_count": 32,
   "metadata": {},
   "outputs": [
    {
     "data": {
      "text/plain": [
       "<BarContainer object of 8 artists>"
      ]
     },
     "execution_count": 32,
     "metadata": {},
     "output_type": "execute_result"
    },
    {
     "data": {
      "image/png": "[encoded data removed]",
      "text/plain": [
       "<Figure size 432x288 with 1 Axes>"
      ]
     },
     "metadata": {
      "needs_background": "light"
     },
     "output_type": "display_data"
    }
   ],
   "source": [
    "# test set validation\n",
    "num, freq = np.unique(test_label_res, return_counts=True)\n",
    "plt.bar(num, freq)"
   ]
  },
  {
   "cell_type": "markdown",
   "metadata": {},
   "source": [
    "Write the data to CSV files"
   ]
  },
  {
   "cell_type": "code",
   "execution_count": 60,
   "metadata": {},
   "outputs": [],
   "source": [
    "file_name = ['training_set.csv','training_labels.csv', 'validation_set.csv', 'validation_labels.csv', \n",
    "             'test_set.csv', 'test_labels.csv']\n",
    "arrays = [train_data_res, train_label_res, validate_data_res, validate_label_res, test_data_res, test_label_res]\n",
    "for index in range(6):\n",
    "    np.savetxt(file_name[index], arrays[index], delimiter=',')"
   ]
  },
  {
   "cell_type": "markdown",
   "metadata": {},
   "source": [
    "## Neural Network"
   ]
  },
  {
   "cell_type": "markdown",
   "metadata": {},
   "source": [
    "### Trial 1"
   ]
  },
  {
   "cell_type": "markdown",
   "metadata": {},
   "source": [
    "#### Defining Architecture"
   ]
  },
  {
   "cell_type": "code",
   "execution_count": 155,
   "metadata": {},
   "outputs": [],
   "source": [
    "N_train = len(train_data_res)\n",
    "N_validate = len(validate_data_res)\n",
    "n_in = len(train_data_res.T)  # input layer\n",
    "n_h1 = 64 #int(np.round(n_in * .75))  # hidden layer 1\n",
    "n_h2 = 64 #int(np.round(n_in * .5))  # hidden layer 2\n",
    "n_out = 1 # output layer"
   ]
  },
  {
   "cell_type": "markdown",
   "metadata": {},
   "source": [
    "#### Deining Network Parameters"
   ]
  },
  {
   "cell_type": "code",
   "execution_count": 156,
   "metadata": {},
   "outputs": [],
   "source": [
    "x_in = np.zeros((n_in,1)) # initializing the input\n",
    "w_h1 = -0.1+(0.1+0.1)*np.random.uniform(0,1, size=(n_h1,n_in))      # weight of hidden layer 1\n",
    "b_h1 = -0.1+(0.1+0.1)*np.random.uniform(0,1, size=(n_h1,1))         # bias of hidden layer 1\n",
    "w_h2 = -0.1+(0.1+0.1)*np.random.uniform(0,1, size=(n_h2,n_h1))      # weight of hidden layer 2\n",
    "b_h2 = -0.1+(0.1+0.1)*np.random.uniform(0,1, size=(n_h2,1))         # bias of hidden layer 2\n",
    "w_out = -0.1+(0.1+0.1)*np.random.uniform(0,1, size=(n_out,n_h2))    # weight of output layer \n",
    "b_out = -0.1+(0.1+0.1)*np.random.uniform(0,1, size=(n_out,1))       # bias of output layer \n",
    "d_out = np.zeros((n_out,1)) # initializing the output\n",
    "\n",
    "eta = 0.01  # learning rate"
   ]
  },
  {
   "cell_type": "markdown",
   "metadata": {},
   "source": [
    "#### Training and Validation Phase"
   ]
  },
  {
   "cell_type": "code",
   "execution_count": 157,
   "metadata": {},
   "outputs": [
    {
     "name": "stdout",
     "output_type": "stream",
     "text": [
      "Iteration:  0  Training Error:  [8.67418497e-05]\n",
      "Iteration:  0  Validation Error:  [0.03990442]\n",
      "3.0 7.0\n",
      "Iteration:  500  Training Error:  [0.0061057]\n",
      "Iteration:  500  Validation Error:  [0.06795512]\n",
      "2.0 5.0\n",
      "Iteration:  1000  Training Error:  [0.0424125]\n",
      "Iteration:  1000  Validation Error:  [0.0029261]\n",
      "11.0 7.0\n",
      "Iteration:  1500  Training Error:  [0.05144332]\n",
      "Iteration:  1500  Validation Error:  [0.02378856]\n",
      "6.0 3.0\n",
      "Iteration:  2000  Training Error:  [0.00050279]\n",
      "Iteration:  2000  Validation Error:  [0.0016901]\n",
      "5.0 6.0\n",
      "Iteration:  2500  Training Error:  [8.77761262e-06]\n",
      "Iteration:  2500  Validation Error:  [0.00721934]\n",
      "6.0 4.0\n",
      "Iteration:  3000  Training Error:  [5.74092661e-06]\n",
      "Iteration:  3000  Validation Error:  [0.00169304]\n",
      "3.0 4.0\n",
      "Iteration:  3500  Training Error:  [0.01483979]\n",
      "Iteration:  3500  Validation Error:  [0.00040797]\n",
      "4.0 4.0\n",
      "Iteration:  4000  Training Error:  [0.00044045]\n",
      "Iteration:  4000  Validation Error:  [0.00711666]\n",
      "9.0 5.0\n",
      "Iteration:  4500  Training Error:  [0.00545792]\n",
      "Iteration:  4500  Validation Error:  [0.00285747]\n",
      "5.0 4.0\n",
      "Iteration:  5000  Training Error:  [0.00028943]\n",
      "Iteration:  5000  Validation Error:  [0.00187738]\n",
      "3.0 4.0\n",
      "Iteration:  5500  Training Error:  [0.002058]\n",
      "Iteration:  5500  Validation Error:  [0.00756816]\n",
      "9.0 5.0\n",
      "Iteration:  6000  Training Error:  [0.00018998]\n",
      "Iteration:  6000  Validation Error:  [0.00026188]\n",
      "4.0 4.0\n",
      "Iteration:  6500  Training Error:  [0.01008965]\n",
      "Iteration:  6500  Validation Error:  [0.0014459]\n",
      "8.0 6.0\n",
      "Iteration:  7000  Training Error:  [0.00071713]\n",
      "Iteration:  7000  Validation Error:  [0.02409752]\n",
      "2.0 3.0\n",
      "Iteration:  7500  Training Error:  [2.95568343e-05]\n",
      "Iteration:  7500  Validation Error:  [0.00127237]\n",
      "5.0 6.0\n",
      "Iteration:  8000  Training Error:  [7.37658679e-06]\n",
      "Iteration:  8000  Validation Error:  [0.00122727]\n",
      "9.0 7.0\n",
      "Iteration:  8500  Training Error:  [0.00016345]\n",
      "Iteration:  8500  Validation Error:  [1.08725084e-06]\n",
      "1.0 1.0\n",
      "Iteration:  9000  Training Error:  [0.00172614]\n",
      "Iteration:  9000  Validation Error:  [0.00166522]\n",
      "6.0 5.0\n",
      "Iteration:  9500  Training Error:  [4.13839837e-06]\n",
      "Iteration:  9500  Validation Error:  [0.00150362]\n",
      "3.0 3.0\n",
      "Iteration:  10000  Training Error:  [0.00033152]\n",
      "Iteration:  10000  Validation Error:  [0.00166468]\n",
      "10.0 7.0\n",
      "Iteration:  10500  Training Error:  [4.1407449e-07]\n",
      "Iteration:  10500  Validation Error:  [0.01254405]\n",
      "2.0 2.0\n",
      "Iteration:  11000  Training Error:  [0.00016987]\n",
      "Iteration:  11000  Validation Error:  [0.00035563]\n",
      "2.0 2.0\n",
      "Iteration:  11500  Training Error:  [0.00059467]\n",
      "Iteration:  11500  Validation Error:  [0.00014548]\n",
      "3.0 3.0\n",
      "Iteration:  12000  Training Error:  [2.00442934e-23]\n",
      "Iteration:  12000  Validation Error:  [0.00171358]\n",
      "2.0 2.0\n",
      "Iteration:  12500  Training Error:  [0.00077113]\n",
      "Iteration:  12500  Validation Error:  [0.00032863]\n",
      "4.0 4.0\n",
      "Iteration:  13000  Training Error:  [0.00087285]\n",
      "Iteration:  13000  Validation Error:  [0.00022359]\n",
      "5.0 5.0\n",
      "Iteration:  13500  Training Error:  [6.97163285e-08]\n",
      "Iteration:  13500  Validation Error:  [0.00160152]\n",
      "5.0 4.0\n",
      "Iteration:  14000  Training Error:  [7.87900542e-05]\n",
      "Iteration:  14000  Validation Error:  [0.00034529]\n",
      "5.0 5.0\n",
      "Iteration:  14500  Training Error:  [1.8305399e-05]\n",
      "Iteration:  14500  Validation Error:  [0.00077516]\n",
      "6.0 5.0\n",
      "Iteration:  15000  Training Error:  [1.92221963e-06]\n",
      "Iteration:  15000  Validation Error:  [0.04520636]\n",
      "3.0 2.0\n",
      "Iteration:  15500  Training Error:  [8.54804216e-20]\n",
      "Iteration:  15500  Validation Error:  [0.05186966]\n",
      "3.0 8.0\n",
      "Iteration:  16000  Training Error:  [0.00117024]\n",
      "Iteration:  16000  Validation Error:  [1.36792962e-05]\n",
      "1.0 1.0\n",
      "Iteration:  16500  Training Error:  [5.01368214e-05]\n",
      "Iteration:  16500  Validation Error:  [8.26485425e-05]\n",
      "5.0 5.0\n",
      "Iteration:  17000  Training Error:  [0.00291703]\n",
      "Iteration:  17000  Validation Error:  [0.00296102]\n",
      "5.0 6.0\n",
      "Iteration:  17500  Training Error:  [4.97429605e-17]\n",
      "Iteration:  17500  Validation Error:  [0.0208319]\n",
      "2.0 3.0\n",
      "Iteration:  18000  Training Error:  [0.00052362]\n",
      "Iteration:  18000  Validation Error:  [0.00075344]\n",
      "7.0 6.0\n",
      "Iteration:  18500  Training Error:  [0.00083695]\n",
      "Iteration:  18500  Validation Error:  [0.00011188]\n",
      "6.0 6.0\n",
      "Iteration:  19000  Training Error:  [0.00012999]\n",
      "Iteration:  19000  Validation Error:  [0.0098883]\n",
      "15.0 6.0\n",
      "Iteration:  19500  Training Error:  [0.00118323]\n",
      "Iteration:  19500  Validation Error:  [0.00014991]\n",
      "4.0 4.0\n",
      "Iteration:  20000  Training Error:  [6.89979039e-05]\n",
      "Iteration:  20000  Validation Error:  [2.51824122e-27]\n",
      "1.0 1.0\n",
      "Iteration:  20500  Training Error:  [6.3836925e-05]\n",
      "Iteration:  20500  Validation Error:  [0.00210268]\n",
      "3.0 4.0\n",
      "Iteration:  21000  Training Error:  [8.97052638e-05]\n",
      "Iteration:  21000  Validation Error:  [7.00567044e-05]\n",
      "2.0 2.0\n",
      "Iteration:  21500  Training Error:  [0.00101129]\n",
      "Iteration:  21500  Validation Error:  [0.00461719]\n",
      "4.0 6.0\n",
      "Iteration:  22000  Training Error:  [6.40592667e-05]\n",
      "Iteration:  22000  Validation Error:  [0.00110599]\n",
      "4.0 4.0\n",
      "Iteration:  22500  Training Error:  [6.42492164e-05]\n",
      "Iteration:  22500  Validation Error:  [0.00032299]\n",
      "5.0 6.0\n",
      "Iteration:  23000  Training Error:  [2.53441755e-09]\n",
      "Iteration:  23000  Validation Error:  [7.30898688e-19]\n",
      "1.0 1.0\n",
      "Iteration:  23500  Training Error:  [1.66860366e-05]\n",
      "Iteration:  23500  Validation Error:  [0.00039547]\n",
      "4.0 4.0\n",
      "Iteration:  24000  Training Error:  [0.00019646]\n",
      "Iteration:  24000  Validation Error:  [0.62583701]\n",
      "1.0 7.0\n",
      "Iteration:  24500  Training Error:  [5.88168642e-05]\n",
      "Iteration:  24500  Validation Error:  [0.00095645]\n",
      "7.0 6.0\n",
      "Iteration:  25000  Training Error:  [1.81590826e-05]\n",
      "Iteration:  25000  Validation Error:  [0.00074152]\n",
      "6.0 5.0\n",
      "Iteration:  25500  Training Error:  [9.69074284e-06]\n",
      "Iteration:  25500  Validation Error:  [0.00141419]\n",
      "3.0 3.0\n",
      "Iteration:  26000  Training Error:  [0.00019706]\n",
      "Iteration:  26000  Validation Error:  [0.0001088]\n",
      "9.0 8.0\n",
      "Iteration:  26500  Training Error:  [4.07164841e-05]\n",
      "Iteration:  26500  Validation Error:  [0.50922577]\n",
      "3.0 1.0\n",
      "Iteration:  27000  Training Error:  [0.00056577]\n",
      "Iteration:  27000  Validation Error:  [0.00920453]\n",
      "14.0 6.0\n",
      "Iteration:  27500  Training Error:  [0.00028555]\n",
      "Iteration:  27500  Validation Error:  [0.0006566]\n",
      "7.0 6.0\n",
      "Iteration:  28000  Training Error:  [0.00042173]\n",
      "Iteration:  28000  Validation Error:  [0.00039325]\n",
      "8.0 7.0\n",
      "Iteration:  28500  Training Error:  [6.09000752e-06]\n",
      "Iteration:  28500  Validation Error:  [0.0575868]\n",
      "11.0 3.0\n",
      "Iteration:  29000  Training Error:  [0.00027398]\n",
      "Iteration:  29000  Validation Error:  [0.00144308]\n",
      "4.0 5.0\n",
      "Iteration:  29500  Training Error:  [0.00020182]\n",
      "Iteration:  29500  Validation Error:  [0.00172118]\n",
      "12.0 8.0\n"
     ]
    }
   ],
   "source": [
    "max_epoch = 30000;    # number of epochs\n",
    "totalerr_train = np.zeros((max_epoch, 1))   # initializing error vector\n",
    "totalerr_validate = np.zeros((max_epoch, 1)) \n",
    "\n",
    "for q in range(max_epoch):\n",
    "    \n",
    "    # TRAINING PHASE\n",
    "    p = np.random.permutation(N_train)   # randomized the order of data\n",
    "    \n",
    "    for n in range(N_train):\n",
    "        nn = p[n]\n",
    "        \n",
    "        x_in = train_data_res[nn,:][:, None]\n",
    "        d_out = 1/train_label_res[nn]    #the output of the sigmoid is between 0 and 1\n",
    "        \n",
    "    # Forward pass\n",
    "        # Hidden layer 1\n",
    "        v_h1 = np.matmul(w_h1, x_in) + b_h1\n",
    "        y_h1 = 1/(1 + np.exp(-v_h1))\n",
    "        \n",
    "        # Hidden Layer 2\n",
    "        v_h2 = np.matmul(w_h2, y_h1) + b_h2\n",
    "        y_h2 = 1/(1 + np.exp(-v_h2))\n",
    "        \n",
    "        # Output Layer\n",
    "        v_out = np.matmul(w_out, y_h2) + b_out\n",
    "        out = 1/(1 + np.exp(-v_out))        \n",
    "    # Backpropagation\n",
    "        # compute error\n",
    "        err = d_out - out\n",
    "        \n",
    "        # compute gradient in the output layer\n",
    "        delta_out = np.multiply(np.multiply(err, out), 1-out)\n",
    "        \n",
    "        # compute gradient in hidden layer 2\n",
    "        delta_h2 = np.multiply(np.multiply(y_h2, 1-y_h2), np.matmul(w_out.transpose(), delta_out))\n",
    "        \n",
    "        # compute gradeint in hidden layer 1\n",
    "        delta_h1 = np.multiply(np.multiply(y_h1, 1-y_h1), np.matmul(w_h2.transpose(), delta_h2))\n",
    "        \n",
    "        # update the weights and biases of output layer\n",
    "        w_out = w_out + eta * np.matmul(delta_out, y_h2.transpose())\n",
    "        b_out = b_out + eta * delta_out\n",
    "        \n",
    "        # update the weights and biases of hidden layer 2\n",
    "        w_h2 = w_h2 + eta * np.matmul(delta_h2, y_h1.transpose()) \n",
    "        b_h2 = b_h2 + eta * delta_h2\n",
    "        \n",
    "        # update the weights and biases of hidden layer 1\n",
    "        w_h1 = w_h1 + eta * np.matmul(delta_h1, x_in.T)\n",
    "        b_h1 = b_h1 + eta * delta_h1\n",
    "        \n",
    "    totalerr_train[q] += err[0]*err[0]\n",
    "    \n",
    "    # Print the error every 500th iteration\n",
    "    if np.mod(q, 500) == 0:\n",
    "        print('Iteration: ', q ,' Training Error: ', totalerr_train[q])\n",
    "        \n",
    "        \n",
    "    \n",
    "    # VALIDATION PHASE\n",
    "    p = np.random.permutation(N_validate)\n",
    "    for n in range(N_validate):\n",
    "        nn = p[n]\n",
    "        \n",
    "        x_in = validate_data_res[nn,:][:, None]\n",
    "        d_out = 1/validate_label_res[nn]\n",
    "        \n",
    "    # Forward pass\n",
    "        # Hidden layer 1\n",
    "        v_h1 = np.matmul(w_h1, x_in) + b_h1\n",
    "        y_h1 = 1/(1 + np.exp(-v_h1))\n",
    "        \n",
    "        # Hidden Layer 2\n",
    "        v_h2 = np.matmul(w_h2, y_h1) + b_h2\n",
    "        y_h2 = 1/(1 + np.exp(-v_h2))\n",
    "        \n",
    "        # Output Layer\n",
    "        v_out = np.matmul(w_out, y_h2) + b_out\n",
    "        out = 1/(1 + np.exp(-v_out))\n",
    "        \n",
    "        # compute error\n",
    "        err = d_out - out\n",
    "        \n",
    "    totalerr_validate[q] += err[0]*err[0]\n",
    "    \n",
    "    if np.mod(q, 500) == 0:\n",
    "        print('Iteration: ', q ,' Validation Error: ', totalerr_validate[q])\n",
    "        print(np.round(1/out)[0][0], 1/d_out)\n",
    "    \n",
    "    \n",
    "    # Stopping criterion\n",
    "    #if totalerr_train[q] < 0.00001:\n",
    "        #break"
   ]
  },
  {
   "cell_type": "code",
   "execution_count": 158,
   "metadata": {},
   "outputs": [
    {
     "data": {
      "image/png": "[encoded data removed]",
      "text/plain": [
       "<Figure size 432x288 with 1 Axes>"
      ]
     },
     "metadata": {
      "needs_background": "light"
     },
     "output_type": "display_data"
    }
   ],
   "source": [
    "# Plot the errors\n",
    "plt.plot(totalerr_train)\n",
    "plt.show()"
   ]
  },
  {
   "cell_type": "code",
   "execution_count": 159,
   "metadata": {},
   "outputs": [
    {
     "data": {
      "image/png": "[encoded data removed]",
      "text/plain": [
       "<Figure size 432x288 with 1 Axes>"
      ]
     },
     "metadata": {
      "needs_background": "light"
     },
     "output_type": "display_data"
    }
   ],
   "source": [
    "plt.plot(totalerr_validate)\n",
    "plt.show()"
   ]
  },
  {
   "cell_type": "markdown",
   "metadata": {},
   "source": [
    "#### Test Phase"
   ]
  },
  {
   "cell_type": "code",
   "execution_count": 160,
   "metadata": {},
   "outputs": [
    {
     "name": "stdout",
     "output_type": "stream",
     "text": [
      "48.11538461538461\n"
     ]
    }
   ],
   "source": [
    "totalerr_test = np.zeros((len(test_data_res), 1))\n",
    "correct = 0\n",
    "for n in range(len(test_data_res)):\n",
    "    \n",
    "    nn = p[n]\n",
    "\n",
    "    x_in = test_data_res[nn,:][:, None]\n",
    "    d_out = 1/test_label_res[nn]\n",
    "\n",
    "    # Hidden layer 1\n",
    "    v_h1 = np.matmul(w_h1, x_in) + b_h1\n",
    "    y_h1 = 1/(1 + np.exp(-v_h1))\n",
    "\n",
    "    # Hidden Layer 2\n",
    "    v_h2 = np.matmul(w_h2, y_h1) + b_h2\n",
    "    y_h2 = 1/(1 + np.exp(-v_h2))\n",
    "\n",
    "    # Output Layer\n",
    "    v_out = np.matmul(w_out, y_h2) + b_out\n",
    "    out = 1/(1 + np.exp(-v_out))\n",
    "\n",
    "    err = d_out - out\n",
    "    #print(np.round(1/out)[0][0], 1/d_out)\n",
    "    \n",
    "    if int(np.round(1/out)[0][0]) == int(1/d_out):\n",
    "        correct += 1\n",
    "                         \n",
    "    totalerr_test[n] += np.sum(np.multiply(err, err))\n",
    "    \n",
    "print(correct/len(test_data_res)*100)"
   ]
  },
  {
   "cell_type": "code",
   "execution_count": 161,
   "metadata": {},
   "outputs": [
    {
     "data": {
      "image/png": "[encoded data removed]",
      "text/plain": [
       "<Figure size 432x288 with 1 Axes>"
      ]
     },
     "metadata": {
      "needs_background": "light"
     },
     "output_type": "display_data"
    }
   ],
   "source": [
    "#plot the error\n",
    "plt.plot(totalerr_test)\n",
    "plt.show()"
   ]
  },
  {
   "cell_type": "markdown",
   "metadata": {},
   "source": [
    "### Trial 2"
   ]
  },
  {
   "cell_type": "markdown",
   "metadata": {},
   "source": [
    "#### Defining Architecture"
   ]
  },
  {
   "cell_type": "code",
   "execution_count": 9,
   "metadata": {},
   "outputs": [],
   "source": [
    "N_train = len(train_data_res)\n",
    "N_validate = len(validate_data_res)\n",
    "n_in = len(train_data_res.T)  # input layer\n",
    "n_h1 = 64 #int(np.round(n_in * .75))  # hidden layer 1\n",
    "n_h2 = 64 #int(np.round(n_in * .5))  # hidden layer 2\n",
    "n_out = 1 # output layer"
   ]
  },
  {
   "cell_type": "markdown",
   "metadata": {},
   "source": [
    "#### Deining Network Parameters"
   ]
  },
  {
   "cell_type": "code",
   "execution_count": 10,
   "metadata": {},
   "outputs": [],
   "source": [
    "x_in = np.zeros((n_in,1)) # initializing the input\n",
    "w_h1 = -0.1+(0.1+0.1)*np.random.uniform(0,1, size=(n_h1,n_in))      # weight of hidden layer 1\n",
    "b_h1 = -0.1+(0.1+0.1)*np.random.uniform(0,1, size=(n_h1,1))         # bias of hidden layer 1\n",
    "w_h2 = -0.1+(0.1+0.1)*np.random.uniform(0,1, size=(n_h2,n_h1))      # weight of hidden layer 2\n",
    "b_h2 = -0.1+(0.1+0.1)*np.random.uniform(0,1, size=(n_h2,1))         # bias of hidden layer 2\n",
    "w_out = -0.1+(0.1+0.1)*np.random.uniform(0,1, size=(n_out,n_h2))    # weight of output layer \n",
    "b_out = -0.1+(0.1+0.1)*np.random.uniform(0,1, size=(n_out,1))       # bias of output layer \n",
    "d_out = np.zeros((n_out,1)) # initializing the output\n",
    "\n",
    "eta = 0.01  # learning rate"
   ]
  },
  {
   "cell_type": "markdown",
   "metadata": {},
   "source": [
    "#### Training and Validation Phase"
   ]
  },
  {
   "cell_type": "code",
   "execution_count": 11,
   "metadata": {},
   "outputs": [
    {
     "name": "stdout",
     "output_type": "stream",
     "text": [
      "Iteration:  0  Training Error:  [0.00018499]\n",
      "Iteration:  0  Validation Error:  [0.02347183]\n",
      "3.0 6.0\n"
     ]
    }
   ],
   "source": [
    "max_epoch = 30000;    # number of epochs\n",
    "totalerr_train = np.zeros((max_epoch, 1))   # initializing error vector\n",
    "totalerr_validate = np.zeros((max_epoch, 1)) \n",
    "\n",
    "for q in range(max_epoch):\n",
    "    \n",
    "    # TRAINING PHASE\n",
    "    p = np.random.permutation(N_train)   # randomized the order of data\n",
    "    \n",
    "    for n in range(N_train):\n",
    "        nn = p[n]\n",
    "        \n",
    "        x_in = train_data_res[nn,:][:, None]\n",
    "        d_out = 1/train_label_res[nn]    #the output of the sigmoid is between 0 and 1\n",
    "        \n",
    "    # Forward pass\n",
    "        # Hidden layer 1\n",
    "        v_h1 = np.matmul(w_h1, x_in) + b_h1\n",
    "        y_h1 = 1/(1 + np.exp(-v_h1))\n",
    "        \n",
    "        # Hidden Layer 2\n",
    "        v_h2 = np.matmul(w_h2, y_h1) + b_h2\n",
    "        y_h2 = 1/(1 + np.exp(-v_h2))\n",
    "        \n",
    "        # Output Layer\n",
    "        v_out = np.matmul(w_out, y_h2) + b_out\n",
    "        out = 1/(1 + np.exp(-v_out))        \n",
    "    # Backpropagation\n",
    "        # compute error\n",
    "        err = d_out - out\n",
    "        \n",
    "        # compute gradient in the output layer\n",
    "        delta_out = np.multiply(np.multiply(err, out), 1-out)\n",
    "        \n",
    "        # compute gradient in hidden layer 2\n",
    "        delta_h2 = np.multiply(np.multiply(y_h2, 1-y_h2), np.matmul(w_out.transpose(), delta_out))\n",
    "        \n",
    "        # compute gradeint in hidden layer 1\n",
    "        delta_h1 = np.multiply(np.multiply(y_h1, 1-y_h1), np.matmul(w_h2.transpose(), delta_h2))\n",
    "        \n",
    "        # update the weights and biases of output layer\n",
    "        w_out = w_out + eta * np.matmul(delta_out, y_h2.transpose())\n",
    "        b_out = b_out + eta * delta_out\n",
    "        \n",
    "        # update the weights and biases of hidden layer 2\n",
    "        w_h2 = w_h2 + eta * np.matmul(delta_h2, y_h1.transpose()) \n",
    "        b_h2 = b_h2 + eta * delta_h2\n",
    "        \n",
    "        # update the weights and biases of hidden layer 1\n",
    "        w_h1 = w_h1 + eta * np.matmul(delta_h1, x_in.T)\n",
    "        b_h1 = b_h1 + eta * delta_h1\n",
    "        \n",
    "    totalerr_train[q] += err[0]*err[0]\n",
    "    \n",
    "    # Print the error every 500th iteration\n",
    "    if np.mod(q, 500) == 0:\n",
    "        print('Iteration: ', q ,' Training Error: ', totalerr_train[q])\n",
    "        \n",
    "        \n",
    "    \n",
    "    # VALIDATION PHASE\n",
    "    p = np.random.permutation(N_validate)\n",
    "    for n in range(N_validate):\n",
    "        nn = p[n]\n",
    "        \n",
    "        x_in = validate_data_res[nn,:][:, None]\n",
    "        d_out = 1/validate_label_res[nn]\n",
    "        \n",
    "    # Forward pass\n",
    "        # Hidden layer 1\n",
    "        v_h1 = np.matmul(w_h1, x_in) + b_h1\n",
    "        y_h1 = 1/(1 + np.exp(-v_h1))\n",
    "        \n",
    "        # Hidden Layer 2\n",
    "        v_h2 = np.matmul(w_h2, y_h1) + b_h2\n",
    "        y_h2 = 1/(1 + np.exp(-v_h2))\n",
    "        \n",
    "        # Output Layer\n",
    "        v_out = np.matmul(w_out, y_h2) + b_out\n",
    "        out = 1/(1 + np.exp(-v_out))\n",
    "        \n",
    "        # compute error\n",
    "        err = d_out - out\n",
    "        \n",
    "    totalerr_validate[q] += err[0]*err[0]\n",
    "    \n",
    "    if np.mod(q, 500) == 0:\n",
    "        print('Iteration: ', q ,' Validation Error: ', totalerr_validate[q])\n",
    "        print(np.round(1/out)[0][0], 1/d_out)\n",
    "    \n",
    "    \n",
    "    # Stopping criterion\n",
    "    if totalerr_train[q] < 0.00001:\n",
    "        break"
   ]
  },
  {
   "cell_type": "code",
   "execution_count": 12,
   "metadata": {
    "scrolled": true
   },
   "outputs": [
    {
     "data": {
      "image/png": "[encoded data removed]",
      "text/plain": [
       "<Figure size 432x288 with 1 Axes>"
      ]
     },
     "metadata": {
      "needs_background": "light"
     },
     "output_type": "display_data"
    }
   ],
   "source": [
    "# Plot the errors\n",
    "plt.plot(totalerr_train)\n",
    "plt.show()"
   ]
  },
  {
   "cell_type": "markdown",
   "metadata": {},
   "source": [
    "### Trial 3"
   ]
  },
  {
   "cell_type": "markdown",
   "metadata": {},
   "source": [
    "#### Defining Architecture"
   ]
  },
  {
   "cell_type": "code",
   "execution_count": 8,
   "metadata": {},
   "outputs": [],
   "source": [
    "N_train = len(train_data_res)\n",
    "N_validate = len(validate_data_res)\n",
    "n_in = len(train_data_res.T)  # input layer\n",
    "n_h1 = 128 #int(np.round(n_in * .75))  # hidden layer 1\n",
    "n_h2 = 64 #int(np.round(n_in * .5))  # hidden layer 2\n",
    "n_out = 1 # output layer"
   ]
  },
  {
   "cell_type": "markdown",
   "metadata": {},
   "source": [
    "#### Deining Network Parameters"
   ]
  },
  {
   "cell_type": "code",
   "execution_count": 9,
   "metadata": {},
   "outputs": [],
   "source": [
    "x_in = np.zeros((n_in,1)) # initializing the input\n",
    "w_h1 = -0.1+(0.1+0.1)*np.random.uniform(0,1, size=(n_h1,n_in))      # weight of hidden layer 1\n",
    "b_h1 = -0.1+(0.1+0.1)*np.random.uniform(0,1, size=(n_h1,1))         # bias of hidden layer 1\n",
    "w_h2 = -0.1+(0.1+0.1)*np.random.uniform(0,1, size=(n_h2,n_h1))      # weight of hidden layer 2\n",
    "b_h2 = -0.1+(0.1+0.1)*np.random.uniform(0,1, size=(n_h2,1))         # bias of hidden layer 2\n",
    "w_out = -0.1+(0.1+0.1)*np.random.uniform(0,1, size=(n_out,n_h2))    # weight of output layer \n",
    "b_out = -0.1+(0.1+0.1)*np.random.uniform(0,1, size=(n_out,1))       # bias of output layer \n",
    "d_out = np.zeros((n_out,1)) # initializing the output\n",
    "\n",
    "eta = 0.01  # learning rate"
   ]
  },
  {
   "cell_type": "markdown",
   "metadata": {},
   "source": [
    "#### Training and Validation Phase"
   ]
  },
  {
   "cell_type": "code",
   "execution_count": 10,
   "metadata": {},
   "outputs": [
    {
     "name": "stdout",
     "output_type": "stream",
     "text": [
      "Iteration:  0  Training Error:  [0.02521572]\n",
      "Iteration:  0  Validation Error:  [0.01785273]\n",
      "3.0 6.0\n",
      "Iteration:  500  Training Error:  [0.00033201]\n",
      "Iteration:  500  Validation Error:  [0.01023661]\n",
      "3.0 2.0\n",
      "Iteration:  1000  Training Error:  [0.00368984]\n",
      "Iteration:  1000  Validation Error:  [1.56345596e-07]\n",
      "1.0 1.0\n",
      "Iteration:  1500  Training Error:  [0.00393098]\n",
      "Iteration:  1500  Validation Error:  [0.01298008]\n",
      "12.0 5.0\n",
      "Iteration:  2000  Training Error:  [1.21784648e-05]\n",
      "Iteration:  2000  Validation Error:  [0.00102031]\n",
      "4.0 5.0\n",
      "Iteration:  2500  Training Error:  [0.04149389]\n",
      "Iteration:  2500  Validation Error:  [0.12910224]\n",
      "2.0 1.0\n",
      "Iteration:  3000  Training Error:  [0.00088741]\n",
      "Iteration:  3000  Validation Error:  [0.00074636]\n",
      "7.0 6.0\n",
      "Iteration:  3500  Training Error:  [0.00052806]\n",
      "Iteration:  3500  Validation Error:  [0.03650099]\n",
      "2.0 3.0\n",
      "Iteration:  4000  Training Error:  [5.55412613e-05]\n",
      "Iteration:  4000  Validation Error:  [1.37656074e-05]\n",
      "7.0 7.0\n",
      "Iteration:  4500  Training Error:  [0.00269776]\n",
      "Iteration:  4500  Validation Error:  [0.00360484]\n",
      "5.0 8.0\n",
      "Iteration:  5000  Training Error:  [0.00280313]\n",
      "Iteration:  5000  Validation Error:  [0.00211495]\n",
      "4.0 5.0\n",
      "Iteration:  5500  Training Error:  [0.00268297]\n",
      "Iteration:  5500  Validation Error:  [0.00231613]\n",
      "1.0 1.0\n",
      "Iteration:  6000  Training Error:  [1.86819599e-09]\n",
      "Iteration:  6000  Validation Error:  [0.00145942]\n",
      "6.0 7.0\n",
      "Iteration:  6500  Training Error:  [1.04954025e-06]\n",
      "Iteration:  6500  Validation Error:  [0.00058474]\n",
      "8.0 7.0\n",
      "Iteration:  7000  Training Error:  [0.00017255]\n",
      "Iteration:  7000  Validation Error:  [0.00668024]\n",
      "6.0 4.0\n",
      "Iteration:  7500  Training Error:  [2.40157317e-07]\n",
      "Iteration:  7500  Validation Error:  [5.29659357e-05]\n",
      "5.0 5.0\n",
      "Iteration:  8000  Training Error:  [0.00351729]\n",
      "Iteration:  8000  Validation Error:  [0.00056004]\n",
      "6.0 5.0\n",
      "Iteration:  8500  Training Error:  [0.0016636]\n",
      "Iteration:  8500  Validation Error:  [6.05180575e-17]\n",
      "1.0 1.0\n",
      "Iteration:  9000  Training Error:  [0.00178781]\n",
      "Iteration:  9000  Validation Error:  [0.00105839]\n",
      "4.0 5.0\n",
      "Iteration:  9500  Training Error:  [8.82967345e-05]\n",
      "Iteration:  9500  Validation Error:  [0.00262135]\n",
      "3.0 3.0\n",
      "Iteration:  10000  Training Error:  [4.02977884e-05]\n",
      "Iteration:  10000  Validation Error:  [0.02423938]\n",
      "3.0 2.0\n",
      "Iteration:  10500  Training Error:  [0.00069293]\n",
      "Iteration:  10500  Validation Error:  [0.00303333]\n",
      "3.0 3.0\n",
      "Iteration:  11000  Training Error:  [0.00015851]\n",
      "Iteration:  11000  Validation Error:  [0.00361192]\n",
      "5.0 8.0\n",
      "Iteration:  11500  Training Error:  [5.57802711e-06]\n",
      "Iteration:  11500  Validation Error:  [0.00330137]\n",
      "3.0 3.0\n",
      "Iteration:  12000  Training Error:  [0.00041043]\n",
      "Iteration:  12000  Validation Error:  [1.38893499e-07]\n",
      "1.0 1.0\n",
      "Iteration:  12500  Training Error:  [0.00010174]\n",
      "Iteration:  12500  Validation Error:  [0.0036613]\n",
      "5.0 7.0\n",
      "Iteration:  13000  Training Error:  [0.00026518]\n",
      "Iteration:  13000  Validation Error:  [0.00181212]\n",
      "2.0 2.0\n",
      "Iteration:  13500  Training Error:  [7.3782487e-18]\n",
      "Iteration:  13500  Validation Error:  [5.56202844e-06]\n",
      "6.0 6.0\n",
      "Iteration:  14000  Training Error:  [0.0088099]\n",
      "Iteration:  14000  Validation Error:  [0.00333317]\n",
      "2.0 2.0\n",
      "Iteration:  14500  Training Error:  [0.0001007]\n",
      "Iteration:  14500  Validation Error:  [0.00086758]\n",
      "1.0 1.0\n",
      "Iteration:  15000  Training Error:  [0.00112227]\n",
      "Iteration:  15000  Validation Error:  [0.00011659]\n",
      "9.0 8.0\n",
      "Iteration:  15500  Training Error:  [7.00472274e-11]\n",
      "Iteration:  15500  Validation Error:  [0.00240693]\n",
      "3.0 3.0\n",
      "Iteration:  16000  Training Error:  [0.00022063]\n",
      "Iteration:  16000  Validation Error:  [2.59054314e-05]\n",
      "8.0 8.0\n",
      "Iteration:  16500  Training Error:  [0.00022507]\n",
      "Iteration:  16500  Validation Error:  [0.00106601]\n",
      "7.0 6.0\n",
      "Iteration:  17000  Training Error:  [0.00014076]\n",
      "Iteration:  17000  Validation Error:  [0.00033537]\n",
      "2.0 2.0\n",
      "Iteration:  17500  Training Error:  [0.00054146]\n",
      "Iteration:  17500  Validation Error:  [0.00276683]\n",
      "3.0 3.0\n",
      "Iteration:  18000  Training Error:  [0.00046084]\n",
      "Iteration:  18000  Validation Error:  [0.0050234]\n",
      "5.0 7.0\n",
      "Iteration:  18500  Training Error:  [1.55681582e-14]\n",
      "Iteration:  18500  Validation Error:  [0.00058703]\n",
      "4.0 4.0\n",
      "Iteration:  19000  Training Error:  [0.00601439]\n",
      "Iteration:  19000  Validation Error:  [0.01267657]\n",
      "2.0 2.0\n",
      "Iteration:  19500  Training Error:  [3.61322658e-16]\n",
      "Iteration:  19500  Validation Error:  [0.34595908]\n",
      "1.0 8.0\n",
      "Iteration:  20000  Training Error:  [0.00046037]\n",
      "Iteration:  20000  Validation Error:  [0.0007309]\n",
      "7.0 6.0\n",
      "Iteration:  20500  Training Error:  [2.72596027e-06]\n",
      "Iteration:  20500  Validation Error:  [1.40644508e-19]\n",
      "1.0 1.0\n",
      "Iteration:  21000  Training Error:  [0.00033527]\n",
      "Iteration:  21000  Validation Error:  [1.45020353e-21]\n",
      "1.0 1.0\n",
      "Iteration:  21500  Training Error:  [1.01952068e-05]\n",
      "Iteration:  21500  Validation Error:  [0.00028142]\n",
      "4.0 4.0\n",
      "Iteration:  22000  Training Error:  [0.00016736]\n",
      "Iteration:  22000  Validation Error:  [0.00010014]\n",
      "5.0 5.0\n",
      "Iteration:  22500  Training Error:  [0.00033311]\n",
      "Iteration:  22500  Validation Error:  [0.00047295]\n",
      "5.0 6.0\n",
      "Iteration:  23000  Training Error:  [7.86613215e-05]\n",
      "Iteration:  23000  Validation Error:  [8.96941947e-05]\n",
      "6.0 6.0\n",
      "Iteration:  23500  Training Error:  [2.10695982e-13]\n",
      "Iteration:  23500  Validation Error:  [0.00525228]\n",
      "5.0 8.0\n",
      "Iteration:  24000  Training Error:  [8.78287857e-07]\n",
      "Iteration:  24000  Validation Error:  [0.00083789]\n",
      "6.0 8.0\n",
      "Iteration:  24500  Training Error:  [8.2213297e-05]\n",
      "Iteration:  24500  Validation Error:  [0.00055203]\n",
      "6.0 5.0\n",
      "Iteration:  25000  Training Error:  [1.81867736e-05]\n",
      "Iteration:  25000  Validation Error:  [0.00017993]\n",
      "6.0 6.0\n",
      "Iteration:  25500  Training Error:  [0.00072317]\n",
      "Iteration:  25500  Validation Error:  [0.00216767]\n",
      "5.0 7.0\n",
      "Iteration:  26000  Training Error:  [0.00052564]\n",
      "Iteration:  26000  Validation Error:  [0.00096586]\n",
      "11.0 8.0\n",
      "Iteration:  26500  Training Error:  [1.84728714e-05]\n",
      "Iteration:  26500  Validation Error:  [0.00392741]\n",
      "3.0 3.0\n",
      "Iteration:  27000  Training Error:  [4.97513473e-10]\n",
      "Iteration:  27000  Validation Error:  [0.00396678]\n",
      "16.0 8.0\n",
      "Iteration:  27500  Training Error:  [8.8420401e-06]\n",
      "Iteration:  27500  Validation Error:  [3.75922284e-15]\n",
      "1.0 1.0\n",
      "Iteration:  28000  Training Error:  [1.2106197e-18]\n",
      "Iteration:  28000  Validation Error:  [0.00354115]\n",
      "9.0 6.0\n",
      "Iteration:  28500  Training Error:  [0.00012925]\n",
      "Iteration:  28500  Validation Error:  [0.00022165]\n",
      "6.0 6.0\n",
      "Iteration:  29000  Training Error:  [0.00013471]\n",
      "Iteration:  29000  Validation Error:  [4.02746814e-05]\n",
      "7.0 7.0\n",
      "Iteration:  29500  Training Error:  [4.94965658e-07]\n",
      "Iteration:  29500  Validation Error:  [0.0042999]\n",
      "2.0 2.0\n"
     ]
    }
   ],
   "source": [
    "max_epoch = 30000;    # number of epochs\n",
    "totalerr_train = np.zeros((max_epoch, 1))   # initializing error vector\n",
    "totalerr_validate = np.zeros((max_epoch, 1)) \n",
    "\n",
    "for q in range(max_epoch):\n",
    "    \n",
    "    # TRAINING PHASE\n",
    "    p = np.random.permutation(N_train)   # randomized the order of data\n",
    "    \n",
    "    for n in range(N_train):\n",
    "        nn = p[n]\n",
    "        \n",
    "        x_in = train_data_res[nn,:][:, None]\n",
    "        d_out = 1/train_label_res[nn]    #the output of the sigmoid is between 0 and 1\n",
    "        \n",
    "    # Forward pass\n",
    "        # Hidden layer 1\n",
    "        v_h1 = np.matmul(w_h1, x_in) + b_h1\n",
    "        y_h1 = 1/(1 + np.exp(-v_h1))\n",
    "        \n",
    "        # Hidden Layer 2\n",
    "        v_h2 = np.matmul(w_h2, y_h1) + b_h2\n",
    "        y_h2 = 1/(1 + np.exp(-v_h2))\n",
    "        \n",
    "        # Output Layer\n",
    "        v_out = np.matmul(w_out, y_h2) + b_out\n",
    "        out = 1/(1 + np.exp(-v_out))        \n",
    "    # Backpropagation\n",
    "        # compute error\n",
    "        err = d_out - out\n",
    "        \n",
    "        # compute gradient in the output layer\n",
    "        delta_out = np.multiply(np.multiply(err, out), 1-out)\n",
    "        \n",
    "        # compute gradient in hidden layer 2\n",
    "        delta_h2 = np.multiply(np.multiply(y_h2, 1-y_h2), np.matmul(w_out.transpose(), delta_out))\n",
    "        \n",
    "        # compute gradeint in hidden layer 1\n",
    "        delta_h1 = np.multiply(np.multiply(y_h1, 1-y_h1), np.matmul(w_h2.transpose(), delta_h2))\n",
    "        \n",
    "        # update the weights and biases of output layer\n",
    "        w_out = w_out + eta * np.matmul(delta_out, y_h2.transpose())\n",
    "        b_out = b_out + eta * delta_out\n",
    "        \n",
    "        # update the weights and biases of hidden layer 2\n",
    "        w_h2 = w_h2 + eta * np.matmul(delta_h2, y_h1.transpose()) \n",
    "        b_h2 = b_h2 + eta * delta_h2\n",
    "        \n",
    "        # update the weights and biases of hidden layer 1\n",
    "        w_h1 = w_h1 + eta * np.matmul(delta_h1, x_in.T)\n",
    "        b_h1 = b_h1 + eta * delta_h1\n",
    "        \n",
    "    totalerr_train[q] += err[0]*err[0]\n",
    "    \n",
    "    # Print the error every 500th iteration\n",
    "    if np.mod(q, 500) == 0:\n",
    "        print('Iteration: ', q ,' Training Error: ', totalerr_train[q])\n",
    "        \n",
    "        \n",
    "    \n",
    "    # VALIDATION PHASE\n",
    "    p = np.random.permutation(N_validate)\n",
    "    for n in range(N_validate):\n",
    "        nn = p[n]\n",
    "        \n",
    "        x_in = validate_data_res[nn,:][:, None]\n",
    "        d_out = 1/validate_label_res[nn]\n",
    "        \n",
    "    # Forward pass\n",
    "        # Hidden layer 1\n",
    "        v_h1 = np.matmul(w_h1, x_in) + b_h1\n",
    "        y_h1 = 1/(1 + np.exp(-v_h1))\n",
    "        \n",
    "        # Hidden Layer 2\n",
    "        v_h2 = np.matmul(w_h2, y_h1) + b_h2\n",
    "        y_h2 = 1/(1 + np.exp(-v_h2))\n",
    "        \n",
    "        # Output Layer\n",
    "        v_out = np.matmul(w_out, y_h2) + b_out\n",
    "        out = 1/(1 + np.exp(-v_out))\n",
    "        \n",
    "        # compute error\n",
    "        err = d_out - out\n",
    "        \n",
    "    totalerr_validate[q] += err[0]*err[0]\n",
    "    \n",
    "    if np.mod(q, 500) == 0:\n",
    "        print('Iteration: ', q ,' Validation Error: ', totalerr_validate[q])\n",
    "        print(np.round(1/out)[0][0], 1/d_out)\n",
    "    \n",
    "    \n",
    "    # Stopping criterion\n",
    "    # if totalerr_train[q] < 0.00001:\n",
    "        #break"
   ]
  },
  {
   "cell_type": "code",
   "execution_count": 11,
   "metadata": {},
   "outputs": [
    {
     "data": {
      "image/png": "[encoded data removed]",
      "text/plain": [
       "<Figure size 432x288 with 1 Axes>"
      ]
     },
     "metadata": {
      "needs_background": "light"
     },
     "output_type": "display_data"
    }
   ],
   "source": [
    "# Plot the errors\n",
    "plt.plot(totalerr_train)\n",
    "plt.show()"
   ]
  },
  {
   "cell_type": "code",
   "execution_count": 12,
   "metadata": {},
   "outputs": [
    {
     "data": {
      "image/png": "[encoded data removed]",
      "text/plain": [
       "<Figure size 432x288 with 1 Axes>"
      ]
     },
     "metadata": {
      "needs_background": "light"
     },
     "output_type": "display_data"
    }
   ],
   "source": [
    "plt.plot(totalerr_validate)\n",
    "plt.show()"
   ]
  },
  {
   "cell_type": "markdown",
   "metadata": {},
   "source": [
    "#### Test Phase"
   ]
  },
  {
   "cell_type": "code",
   "execution_count": 18,
   "metadata": {},
   "outputs": [
    {
     "name": "stdout",
     "output_type": "stream",
     "text": [
      "51.80769230769231\n"
     ]
    }
   ],
   "source": [
    "totalerr_test = np.zeros((len(test_data_res), 1))\n",
    "correct = 0\n",
    "for n in range(len(test_data_res)):\n",
    "\n",
    "    x_in = test_data_res[n,:][:, None]\n",
    "    d_out = 1/test_label_res[n]\n",
    "\n",
    "    # Hidden layer 1\n",
    "    v_h1 = np.matmul(w_h1, x_in) + b_h1\n",
    "    y_h1 = 1/(1 + np.exp(-v_h1))\n",
    "\n",
    "    # Hidden Layer 2\n",
    "    v_h2 = np.matmul(w_h2, y_h1) + b_h2\n",
    "    y_h2 = 1/(1 + np.exp(-v_h2))\n",
    "\n",
    "    # Output Layer\n",
    "    v_out = np.matmul(w_out, y_h2) + b_out\n",
    "    out = 1/(1 + np.exp(-v_out))\n",
    "\n",
    "    err = d_out - out\n",
    "    #print(np.round(1/out)[0][0], 1/d_out)\n",
    "    \n",
    "    if int(np.round(1/out)[0][0]) == int(1/d_out):\n",
    "        correct += 1\n",
    "                         \n",
    "    totalerr_test[n] += np.sum(np.multiply(err, err))\n",
    "    \n",
    "print(correct/len(test_data_res)*100)"
   ]
  },
  {
   "cell_type": "code",
   "execution_count": 14,
   "metadata": {},
   "outputs": [
    {
     "data": {
      "image/png": "[encoded data removed]",
      "text/plain": [
       "<Figure size 432x288 with 1 Axes>"
      ]
     },
     "metadata": {
      "needs_background": "light"
     },
     "output_type": "display_data"
    }
   ],
   "source": [
    "#plot the error\n",
    "plt.plot(totalerr_test)\n",
    "plt.show()"
   ]
  },
  {
   "cell_type": "markdown",
   "metadata": {},
   "source": [
    "### Trial 4"
   ]
  },
  {
   "cell_type": "markdown",
   "metadata": {},
   "source": [
    "#### Defining Architecture"
   ]
  },
  {
   "cell_type": "code",
   "execution_count": 29,
   "metadata": {},
   "outputs": [],
   "source": [
    "N_train = len(train_data_res)\n",
    "N_validate = len(validate_data_res)\n",
    "n_in = len(train_data_res.T)  # input layer\n",
    "n_h1 = 256 #int(np.round(n_in * .75))  # hidden layer 1\n",
    "n_h2 = 128 #int(np.round(n_in * .5))  # hidden layer 2\n",
    "n_out = 1 # output layer"
   ]
  },
  {
   "cell_type": "markdown",
   "metadata": {},
   "source": [
    "#### Deining Network Parameters"
   ]
  },
  {
   "cell_type": "code",
   "execution_count": 30,
   "metadata": {},
   "outputs": [],
   "source": [
    "x_in = np.zeros((n_in,1)) # initializing the input\n",
    "w_h1 = -0.1+(0.1+0.1)*np.random.uniform(0,1, size=(n_h1,n_in))      # weight of hidden layer 1\n",
    "b_h1 = -0.1+(0.1+0.1)*np.random.uniform(0,1, size=(n_h1,1))         # bias of hidden layer 1\n",
    "w_h2 = -0.1+(0.1+0.1)*np.random.uniform(0,1, size=(n_h2,n_h1))      # weight of hidden layer 2\n",
    "b_h2 = -0.1+(0.1+0.1)*np.random.uniform(0,1, size=(n_h2,1))         # bias of hidden layer 2\n",
    "w_out = -0.1+(0.1+0.1)*np.random.uniform(0,1, size=(n_out,n_h2))    # weight of output layer \n",
    "b_out = -0.1+(0.1+0.1)*np.random.uniform(0,1, size=(n_out,1))       # bias of output layer \n",
    "d_out = np.zeros((n_out,1)) # initializing the output\n",
    "\n",
    "eta = 0.01  # learning rate"
   ]
  },
  {
   "cell_type": "markdown",
   "metadata": {},
   "source": [
    "#### Training and Validation Phase"
   ]
  },
  {
   "cell_type": "code",
   "execution_count": 31,
   "metadata": {},
   "outputs": [
    {
     "name": "stdout",
     "output_type": "stream",
     "text": [
      "Iteration:  0  Training Error:  [0.03287088]\n",
      "Iteration:  0  Validation Error:  [0.00508891]\n",
      "3.0 4.0\n",
      "Iteration:  500  Training Error:  [0.00061404]\n",
      "Iteration:  500  Validation Error:  [0.00298918]\n",
      "5.0 4.0\n",
      "Iteration:  1000  Training Error:  [0.00527193]\n",
      "Iteration:  1000  Validation Error:  [0.00030023]\n",
      "7.0 8.0\n",
      "Iteration:  1500  Training Error:  [7.65583671e-06]\n",
      "Iteration:  1500  Validation Error:  [0.00015493]\n",
      "6.0 7.0\n",
      "Iteration:  2000  Training Error:  [0.0004568]\n",
      "Iteration:  2000  Validation Error:  [0.01555129]\n",
      "3388.0 8.0\n",
      "Iteration:  2500  Training Error:  [0.00018389]\n",
      "Iteration:  2500  Validation Error:  [1.97000009e-05]\n",
      "6.0 6.0\n",
      "Iteration:  3000  Training Error:  [0.00398236]\n",
      "Iteration:  3000  Validation Error:  [9.75643075e-06]\n",
      "7.0 7.0\n",
      "Iteration:  3500  Training Error:  [0.00085742]\n",
      "Iteration:  3500  Validation Error:  [0.03686117]\n",
      "1.0 1.0\n",
      "Iteration:  4000  Training Error:  [0.00109997]\n",
      "Iteration:  4000  Validation Error:  [0.0012917]\n",
      "11.0 8.0\n",
      "Iteration:  4500  Training Error:  [0.01840348]\n",
      "Iteration:  4500  Validation Error:  [0.00100071]\n",
      "6.0 7.0\n",
      "Iteration:  5000  Training Error:  [6.09104952e-06]\n",
      "Iteration:  5000  Validation Error:  [3.04271527e-09]\n",
      "1.0 1.0\n",
      "Iteration:  5500  Training Error:  [0.00303822]\n",
      "Iteration:  5500  Validation Error:  [1.91064978e-06]\n",
      "1.0 1.0\n",
      "Iteration:  6000  Training Error:  [0.00252782]\n",
      "Iteration:  6000  Validation Error:  [0.00168262]\n",
      "5.0 7.0\n",
      "Iteration:  6500  Training Error:  [0.00093157]\n",
      "Iteration:  6500  Validation Error:  [0.0005536]\n",
      "7.0 8.0\n",
      "Iteration:  7000  Training Error:  [0.00051762]\n",
      "Iteration:  7000  Validation Error:  [0.00875593]\n",
      "2.0 3.0\n",
      "Iteration:  7500  Training Error:  [0.00021858]\n",
      "Iteration:  7500  Validation Error:  [0.00390934]\n",
      "5.0 7.0\n",
      "Iteration:  8000  Training Error:  [0.00015721]\n",
      "Iteration:  8000  Validation Error:  [0.00263985]\n",
      "5.0 7.0\n",
      "Iteration:  8500  Training Error:  [0.00067409]\n",
      "Iteration:  8500  Validation Error:  [0.00023074]\n",
      "5.0 5.0\n",
      "Iteration:  9000  Training Error:  [0.00030403]\n",
      "Iteration:  9000  Validation Error:  [0.01312116]\n",
      "19.0 6.0\n",
      "Iteration:  9500  Training Error:  [0.34455719]\n",
      "Iteration:  9500  Validation Error:  [1.86737804e-05]\n",
      "6.0 6.0\n",
      "Iteration:  10000  Training Error:  [2.19477771e-05]\n",
      "Iteration:  10000  Validation Error:  [0.00185527]\n",
      "5.0 7.0\n",
      "Iteration:  10500  Training Error:  [1.58131192e-05]\n",
      "Iteration:  10500  Validation Error:  [0.00033812]\n",
      "5.0 6.0\n",
      "Iteration:  11000  Training Error:  [9.48875269e-05]\n",
      "Iteration:  11000  Validation Error:  [0.00032838]\n",
      "4.0 4.0\n",
      "Iteration:  11500  Training Error:  [7.83759352e-13]\n",
      "Iteration:  11500  Validation Error:  [0.00373186]\n",
      "5.0 8.0\n",
      "Iteration:  12000  Training Error:  [0.00031455]\n",
      "Iteration:  12000  Validation Error:  [0.00156948]\n",
      "5.0 4.0\n",
      "Iteration:  12500  Training Error:  [0.28088876]\n",
      "Iteration:  12500  Validation Error:  [1.58224633e-08]\n",
      "1.0 1.0\n",
      "Iteration:  13000  Training Error:  [0.00319175]\n",
      "Iteration:  13000  Validation Error:  [0.00113864]\n",
      "8.0 6.0\n",
      "Iteration:  13500  Training Error:  [0.00525156]\n",
      "Iteration:  13500  Validation Error:  [0.00174981]\n",
      "3.0 4.0\n",
      "Iteration:  14000  Training Error:  [1.52356816e-05]\n",
      "Iteration:  14000  Validation Error:  [0.00033085]\n",
      "7.0 6.0\n",
      "Iteration:  14500  Training Error:  [3.93730957e-19]\n",
      "Iteration:  14500  Validation Error:  [2.4649007e-05]\n",
      "6.0 6.0\n"
     ]
    }
   ],
   "source": [
    "max_epoch = 15000;    # number of epochs\n",
    "totalerr_train = np.zeros((max_epoch, 1))   # initializing error vector\n",
    "totalerr_validate = np.zeros((max_epoch, 1)) \n",
    "\n",
    "for q in range(max_epoch):\n",
    "    \n",
    "    # TRAINING PHASE\n",
    "    p = np.random.permutation(N_train)   # randomized the order of data\n",
    "    \n",
    "    for n in range(N_train):\n",
    "        nn = p[n]\n",
    "        \n",
    "        x_in = train_data_res[nn,:][:, None]\n",
    "        d_out = 1/train_label_res[nn]    #the output of the sigmoid is between 0 and 1\n",
    "        \n",
    "    # Forward pass\n",
    "        # Hidden layer 1\n",
    "        v_h1 = np.matmul(w_h1, x_in) + b_h1\n",
    "        y_h1 = 1/(1 + np.exp(-v_h1))\n",
    "        \n",
    "        # Hidden Layer 2\n",
    "        v_h2 = np.matmul(w_h2, y_h1) + b_h2\n",
    "        y_h2 = 1/(1 + np.exp(-v_h2))\n",
    "        \n",
    "        # Output Layer\n",
    "        v_out = np.matmul(w_out, y_h2) + b_out\n",
    "        out = 1/(1 + np.exp(-v_out))        \n",
    "    # Backpropagation\n",
    "        # compute error\n",
    "        err = d_out - out\n",
    "        \n",
    "        # compute gradient in the output layer\n",
    "        delta_out = np.multiply(np.multiply(err, out), 1-out)\n",
    "        \n",
    "        # compute gradient in hidden layer 2\n",
    "        delta_h2 = np.multiply(np.multiply(y_h2, 1-y_h2), np.matmul(w_out.transpose(), delta_out))\n",
    "        \n",
    "        # compute gradeint in hidden layer 1\n",
    "        delta_h1 = np.multiply(np.multiply(y_h1, 1-y_h1), np.matmul(w_h2.transpose(), delta_h2))\n",
    "        \n",
    "        # update the weights and biases of output layer\n",
    "        w_out = w_out + eta * np.matmul(delta_out, y_h2.transpose())\n",
    "        b_out = b_out + eta * delta_out\n",
    "        \n",
    "        # update the weights and biases of hidden layer 2\n",
    "        w_h2 = w_h2 + eta * np.matmul(delta_h2, y_h1.transpose()) \n",
    "        b_h2 = b_h2 + eta * delta_h2\n",
    "        \n",
    "        # update the weights and biases of hidden layer 1\n",
    "        w_h1 = w_h1 + eta * np.matmul(delta_h1, x_in.T)\n",
    "        b_h1 = b_h1 + eta * delta_h1\n",
    "        \n",
    "    totalerr_train[q] += err[0]*err[0]\n",
    "    \n",
    "    # Print the error every 500th iteration\n",
    "    if np.mod(q, 500) == 0:\n",
    "        print('Iteration: ', q ,' Training Error: ', totalerr_train[q])\n",
    "        \n",
    "        \n",
    "    \n",
    "    # VALIDATION PHASE\n",
    "    p = np.random.permutation(N_validate)\n",
    "    for n in range(N_validate):\n",
    "        nn = p[n]\n",
    "        \n",
    "        x_in = validate_data_res[nn,:][:, None]\n",
    "        d_out = 1/validate_label_res[nn]\n",
    "        \n",
    "    # Forward pass\n",
    "        # Hidden layer 1\n",
    "        v_h1 = np.matmul(w_h1, x_in) + b_h1\n",
    "        y_h1 = 1/(1 + np.exp(-v_h1))\n",
    "        \n",
    "        # Hidden Layer 2\n",
    "        v_h2 = np.matmul(w_h2, y_h1) + b_h2\n",
    "        y_h2 = 1/(1 + np.exp(-v_h2))\n",
    "        \n",
    "        # Output Layer\n",
    "        v_out = np.matmul(w_out, y_h2) + b_out\n",
    "        out = 1/(1 + np.exp(-v_out))\n",
    "        \n",
    "        # compute error\n",
    "        err = d_out - out\n",
    "        \n",
    "    totalerr_validate[q] += err[0]*err[0]\n",
    "    \n",
    "    if np.mod(q, 500) == 0:\n",
    "        print('Iteration: ', q ,' Validation Error: ', totalerr_validate[q])\n",
    "        print(np.round(1/out)[0][0], 1/d_out)\n",
    "    \n",
    "    \n",
    "    # Stopping criterion\n",
    "    # if totalerr_train[q] < 0.00001:\n",
    "        #break"
   ]
  },
  {
   "cell_type": "code",
   "execution_count": 32,
   "metadata": {},
   "outputs": [
    {
     "data": {
      "image/png": "[encoded data removed]",
      "text/plain": [
       "<Figure size 432x288 with 1 Axes>"
      ]
     },
     "metadata": {
      "needs_background": "light"
     },
     "output_type": "display_data"
    }
   ],
   "source": [
    "# Plot the errors\n",
    "plt.plot(totalerr_train)\n",
    "plt.show()"
   ]
  },
  {
   "cell_type": "code",
   "execution_count": 33,
   "metadata": {},
   "outputs": [
    {
     "data": {
      "image/png": "[encoded data removed]",
      "text/plain": [
       "<Figure size 432x288 with 1 Axes>"
      ]
     },
     "metadata": {
      "needs_background": "light"
     },
     "output_type": "display_data"
    }
   ],
   "source": [
    "plt.plot(totalerr_validate)\n",
    "plt.show()"
   ]
  },
  {
   "cell_type": "markdown",
   "metadata": {},
   "source": [
    "#### Test Phase"
   ]
  },
  {
   "cell_type": "code",
   "execution_count": 34,
   "metadata": {},
   "outputs": [
    {
     "name": "stdout",
     "output_type": "stream",
     "text": [
      "40.92307692307692\n"
     ]
    }
   ],
   "source": [
    "totalerr_test = np.zeros((len(test_data_res), 1))\n",
    "correct = 0\n",
    "for n in range(len(test_data_res)):\n",
    "    \n",
    "    nn = p[n]\n",
    "\n",
    "    x_in = test_data_res[nn,:][:, None]\n",
    "    d_out = 1/test_label_res[nn]\n",
    "\n",
    "    # Hidden layer 1\n",
    "    v_h1 = np.matmul(w_h1, x_in) + b_h1\n",
    "    y_h1 = 1/(1 + np.exp(-v_h1))\n",
    "\n",
    "    # Hidden Layer 2\n",
    "    v_h2 = np.matmul(w_h2, y_h1) + b_h2\n",
    "    y_h2 = 1/(1 + np.exp(-v_h2))\n",
    "\n",
    "    # Output Layer\n",
    "    v_out = np.matmul(w_out, y_h2) + b_out\n",
    "    out = 1/(1 + np.exp(-v_out))\n",
    "\n",
    "    err = d_out - out\n",
    "    #print(np.round(1/out)[0][0], 1/d_out)\n",
    "    \n",
    "    if int(np.round(1/out)[0][0]) == int(1/d_out):\n",
    "        correct += 1\n",
    "                         \n",
    "    totalerr_test[n] += np.sum(np.multiply(err, err))\n",
    "    \n",
    "print(correct/len(test_data_res)*100)"
   ]
  },
  {
   "cell_type": "code",
   "execution_count": 35,
   "metadata": {},
   "outputs": [
    {
     "data": {
      "image/png": "[encoded data removed]",
      "text/plain": [
       "<Figure size 432x288 with 1 Axes>"
      ]
     },
     "metadata": {
      "needs_background": "light"
     },
     "output_type": "display_data"
    }
   ],
   "source": [
    "#plot the error\n",
    "plt.plot(totalerr_test)\n",
    "plt.show()"
   ]
  },
  {
   "cell_type": "markdown",
   "metadata": {},
   "source": [
    "The implementation of the neural network as a regression is a bit hard to train."
   ]
  },
  {
   "cell_type": "markdown",
   "metadata": {},
   "source": [
    "### Trial 5: Binary Outputs"
   ]
  },
  {
   "cell_type": "markdown",
   "metadata": {},
   "source": [
    "#### Defining Architecture"
   ]
  },
  {
   "cell_type": "code",
   "execution_count": 36,
   "metadata": {},
   "outputs": [],
   "source": [
    "N_train = len(train_data_res)\n",
    "N_validate = len(validate_data_res)\n",
    "n_in = len(train_data_res.T)  # input layer\n",
    "n_h1 = 64 #int(np.round(n_in * .75))  # hidden layer 1\n",
    "n_h2 = 32 #int(np.round(n_in * .5))  # hidden layer 2\n",
    "n_out = 4 # output layer corresponding to four bits to represent decimal numbers 1 to 8"
   ]
  },
  {
   "cell_type": "markdown",
   "metadata": {},
   "source": [
    "#### Deining Network Parameters"
   ]
  },
  {
   "cell_type": "code",
   "execution_count": 37,
   "metadata": {},
   "outputs": [],
   "source": [
    "x_in = np.zeros((n_in,1)) # initializing the input\n",
    "w_h1 = -0.1+(0.1+0.1)*np.random.uniform(0,1, size=(n_h1,n_in))      # weight of hidden layer 1\n",
    "b_h1 = -0.1+(0.1+0.1)*np.random.uniform(0,1, size=(n_h1,1))         # bias of hidden layer 1\n",
    "w_h2 = -0.1+(0.1+0.1)*np.random.uniform(0,1, size=(n_h2,n_h1))      # weight of hidden layer 2\n",
    "b_h2 = -0.1+(0.1+0.1)*np.random.uniform(0,1, size=(n_h2,1))         # bias of hidden layer 2\n",
    "w_out = -0.1+(0.1+0.1)*np.random.uniform(0,1, size=(n_out,n_h2))    # weight of output layer \n",
    "b_out = -0.1+(0.1+0.1)*np.random.uniform(0,1, size=(n_out,1))       # bias of output layer \n",
    "d_out = np.zeros((n_out,1)) # initializing the output\n",
    "\n",
    "eta = 0.01  # learning rate"
   ]
  },
  {
   "cell_type": "markdown",
   "metadata": {},
   "source": [
    "#### Training and Validation Phase"
   ]
  },
  {
   "cell_type": "code",
   "execution_count": 39,
   "metadata": {},
   "outputs": [
    {
     "name": "stdout",
     "output_type": "stream",
     "text": [
      "Iteration:  0  Training Error:  [0.75079328]\n",
      "Iteration:  0  Validation Error:  [0.76968967]\n",
      "Iteration:  500  Training Error:  [0.00365723]\n",
      "Iteration:  500  Validation Error:  [2.53709367e-07]\n"
     ]
    }
   ],
   "source": [
    "max_epoch = 15000;    # number of epochs\n",
    "totalerr_train = np.zeros((max_epoch, 1))   # initializing error vector\n",
    "totalerr_validate = np.zeros((max_epoch, 1)) \n",
    "\n",
    "for q in range(max_epoch):\n",
    "    \n",
    "    # TRAINING PHASE\n",
    "    p = np.random.permutation(N_train)   # randomized the order of data\n",
    "    \n",
    "    for n in range(N_train):\n",
    "        nn = p[n]\n",
    "        \n",
    "        x_in = train_data_res[nn,:][:, None]\n",
    "        bits = np.binary_repr(int(train_label_res[nn]), width=4)\n",
    "        d_out = np.array([float(bit) for bit in bits])\n",
    "        d_out = d_out[:, None]\n",
    "        \n",
    "    # Forward pass\n",
    "        # Hidden layer 1\n",
    "        v_h1 = np.matmul(w_h1, x_in) + b_h1\n",
    "        y_h1 = 1/(1 + np.exp(-v_h1))\n",
    "        \n",
    "        # Hidden Layer 2\n",
    "        v_h2 = np.matmul(w_h2, y_h1) + b_h2\n",
    "        y_h2 = 1/(1 + np.exp(-v_h2))\n",
    "        \n",
    "        # Output Layer\n",
    "        v_out = np.matmul(w_out, y_h2) + b_out\n",
    "        out = 1/(1 + np.exp(-v_out))        \n",
    "    # Backpropagation\n",
    "        # compute error\n",
    "        err = d_out - out\n",
    "        \n",
    "        # compute gradient in the output layer\n",
    "        delta_out = np.multiply(np.multiply(err, out), 1-out)\n",
    "        \n",
    "        # compute gradient in hidden layer 2\n",
    "        delta_h2 = np.multiply(np.multiply(y_h2, 1-y_h2), np.matmul(w_out.transpose(), delta_out))\n",
    "        \n",
    "        # compute gradeint in hidden layer 1\n",
    "        delta_h1 = np.multiply(np.multiply(y_h1, 1-y_h1), np.matmul(w_h2.transpose(), delta_h2))\n",
    "        \n",
    "        # update the weights and biases of output layer\n",
    "        w_out = w_out + eta * np.matmul(delta_out, y_h2.transpose())\n",
    "        b_out = b_out + eta * delta_out\n",
    "        \n",
    "        # update the weights and biases of hidden layer 2\n",
    "        w_h2 = w_h2 + eta * np.matmul(delta_h2, y_h1.transpose()) \n",
    "        b_h2 = b_h2 + eta * delta_h2\n",
    "        \n",
    "        # update the weights and biases of hidden layer 1\n",
    "        w_h1 = w_h1 + eta * np.matmul(delta_h1, x_in.T)\n",
    "        b_h1 = b_h1 + eta * delta_h1\n",
    "        \n",
    "    totalerr_train[q] += np.sum(np.multiply(err, err))\n",
    "    \n",
    "    # Print the error every 500th iteration\n",
    "    if np.mod(q, 500) == 0:\n",
    "        print('Iteration: ', q ,' Training Error: ', totalerr_train[q])\n",
    "        \n",
    "        \n",
    "    \n",
    "    # VALIDATION PHASE\n",
    "    p = np.random.permutation(N_validate)\n",
    "    for n in range(N_validate):\n",
    "        nn = p[n]\n",
    "        \n",
    "        x_in = validate_data_res[nn,:][:, None]\n",
    "        bits = np.binary_repr(int(validate_label_res[nn]), width=4)\n",
    "        d_out = np.array([float(bit) for bit in bits])\n",
    "        d_out = d_out[:, None]\n",
    "        \n",
    "    # Forward pass\n",
    "        # Hidden layer 1\n",
    "        v_h1 = np.matmul(w_h1, x_in) + b_h1\n",
    "        y_h1 = 1/(1 + np.exp(-v_h1))\n",
    "        \n",
    "        # Hidden Layer 2\n",
    "        v_h2 = np.matmul(w_h2, y_h1) + b_h2\n",
    "        y_h2 = 1/(1 + np.exp(-v_h2))\n",
    "        \n",
    "        # Output Layer\n",
    "        v_out = np.matmul(w_out, y_h2) + b_out\n",
    "        out = 1/(1 + np.exp(-v_out))\n",
    "        \n",
    "        # compute error\n",
    "        err = d_out - out\n",
    "        \n",
    "    totalerr_validate[q] += np.sum(np.multiply(err, err))\n",
    "    \n",
    "    if np.mod(q, 500) == 0:\n",
    "        print('Iteration: ', q ,' Validation Error: ', totalerr_validate[q])\n",
    "        bits_str =''\n",
    "        for sublist in out.T:\n",
    "            for item in sublist:\n",
    "                bits_str += str(int(item))\n",
    "        int(bits_str,2)\n",
    "    \n",
    "    \n",
    "    # Stopping criterion\n",
    "    if totalerr_train[q] < 0.0000000001:\n",
    "        break"
   ]
  },
  {
   "cell_type": "code",
   "execution_count": 40,
   "metadata": {},
   "outputs": [
    {
     "data": {
      "image/png": "[encoded data removed]",
      "text/plain": [
       "<Figure size 432x288 with 1 Axes>"
      ]
     },
     "metadata": {
      "needs_background": "light"
     },
     "output_type": "display_data"
    }
   ],
   "source": [
    "# Plot the errors\n",
    "plt.plot(totalerr_train)\n",
    "plt.show()"
   ]
  },
  {
   "cell_type": "markdown",
   "metadata": {},
   "source": [
    "## Deploy the Model"
   ]
  },
  {
   "cell_type": "markdown",
   "metadata": {},
   "source": [
    "#### Trial 4"
   ]
  },
  {
   "cell_type": "code",
   "execution_count": 15,
   "metadata": {},
   "outputs": [],
   "source": [
    "unknown_labels = open('unknown_labels_set.csv') \n",
    "unknown_labels = np.array(list(csv.reader(unknown_labels)), dtype=float)"
   ]
  },
  {
   "cell_type": "code",
   "execution_count": 28,
   "metadata": {},
   "outputs": [],
   "source": [
    "out = np.zeros((len(unknown_labels), 1), dtype=float)\n",
    "\n",
    "for n in range(len(unknown_labels)):\n",
    "    \n",
    "    x_in = unknown_labels[n,:][:, None]\n",
    "\n",
    "    # Hidden layer 1\n",
    "    v_h1 = np.matmul(w_h1, x_in) + b_h1\n",
    "    y_h1 = 1/(1 + np.exp(-v_h1))\n",
    "\n",
    "    # Hidden Layer 2\n",
    "    v_h2 = np.matmul(w_h2, y_h1) + b_h2\n",
    "    y_h2 = 1/(1 + np.exp(-v_h2))\n",
    "\n",
    "    # Output Layer\n",
    "    v_out = np.matmul(w_out, y_h2) + b_out\n",
    "    out[n] = 1/(1 + np.exp(-v_out))\n",
    "    out[n] = np.round(1/out[n])\n",
    "\n",
    "np.savetxt('predicted_ann.csv', out, delimiter=',')"
   ]
  },
  {
   "cell_type": "markdown",
   "metadata": {},
   "source": [
    "## SVM"
   ]
  },
  {
   "cell_type": "code",
   "execution_count": 62,
   "metadata": {},
   "outputs": [],
   "source": [
    "from sklearn.svm import SVC\n",
    "import time"
   ]
  },
  {
   "cell_type": "markdown",
   "metadata": {},
   "source": [
    "#### Linear Kernel"
   ]
  },
  {
   "cell_type": "code",
   "execution_count": 73,
   "metadata": {
    "scrolled": true
   },
   "outputs": [
    {
     "name": "stdout",
     "output_type": "stream",
     "text": [
      "6.564970254898071\n"
     ]
    }
   ],
   "source": [
    "start = time.time()\n",
    "svm_classifier = SVC(kernel='linear')\n",
    "svm_classifier.fit(train_data_res, train_label_res)\n",
    "end = time.time()\n",
    "print(end-start)"
   ]
  },
  {
   "cell_type": "code",
   "execution_count": 49,
   "metadata": {},
   "outputs": [
    {
     "data": {
      "text/plain": [
       "0.95"
      ]
     },
     "execution_count": 49,
     "metadata": {},
     "output_type": "execute_result"
    }
   ],
   "source": [
    "svm_classifier.score(test_data_res, test_label_res)"
   ]
  },
  {
   "cell_type": "markdown",
   "metadata": {},
   "source": [
    "#### Polynomial Kernel"
   ]
  },
  {
   "cell_type": "code",
   "execution_count": 65,
   "metadata": {},
   "outputs": [
    {
     "name": "stdout",
     "output_type": "stream",
     "text": [
      "7.817798137664795\n"
     ]
    }
   ],
   "source": [
    "start = time.time()\n",
    "svm_classifier = SVC(kernel='poly')\n",
    "svm_classifier.fit(train_data_res, train_label_res)\n",
    "end = time.time()\n",
    "print(end-start)"
   ]
  },
  {
   "cell_type": "code",
   "execution_count": 67,
   "metadata": {},
   "outputs": [
    {
     "data": {
      "text/plain": [
       "0.9438461538461539"
      ]
     },
     "execution_count": 67,
     "metadata": {},
     "output_type": "execute_result"
    }
   ],
   "source": [
    "svm_classifier.score(test_data_res, test_label_res)"
   ]
  },
  {
   "cell_type": "markdown",
   "metadata": {},
   "source": [
    "#### RBF"
   ]
  },
  {
   "cell_type": "code",
   "execution_count": 68,
   "metadata": {},
   "outputs": [
    {
     "name": "stdout",
     "output_type": "stream",
     "text": [
      "10.575345277786255\n"
     ]
    }
   ],
   "source": [
    "start = time.time()\n",
    "svm_classifier = SVC(kernel='rbf')\n",
    "svm_classifier.fit(train_data_res, train_label_res)\n",
    "end = time.time()\n",
    "print(end-start)"
   ]
  },
  {
   "cell_type": "code",
   "execution_count": 69,
   "metadata": {},
   "outputs": [
    {
     "data": {
      "text/plain": [
       "0.9184615384615384"
      ]
     },
     "execution_count": 69,
     "metadata": {},
     "output_type": "execute_result"
    }
   ],
   "source": [
    "svm_classifier.score(test_data_res, test_label_res)"
   ]
  },
  {
   "cell_type": "markdown",
   "metadata": {},
   "source": [
    "#### Sigmoid"
   ]
  },
  {
   "cell_type": "code",
   "execution_count": 70,
   "metadata": {},
   "outputs": [
    {
     "name": "stdout",
     "output_type": "stream",
     "text": [
      "10.605339765548706\n"
     ]
    }
   ],
   "source": [
    "start = time.time()\n",
    "svm_classifier = SVC(kernel='rbf')\n",
    "svm_classifier.fit(train_data_res, train_label_res)\n",
    "end = time.time()\n",
    "print(end-start)"
   ]
  },
  {
   "cell_type": "code",
   "execution_count": 71,
   "metadata": {},
   "outputs": [
    {
     "data": {
      "text/plain": [
       "0.9184615384615384"
      ]
     },
     "execution_count": 71,
     "metadata": {},
     "output_type": "execute_result"
    }
   ],
   "source": [
    "svm_classifier.score(test_data_res, test_label_res)"
   ]
  },
  {
   "cell_type": "markdown",
   "metadata": {},
   "source": [
    "### Deploy the model"
   ]
  },
  {
   "cell_type": "code",
   "execution_count": 74,
   "metadata": {},
   "outputs": [],
   "source": [
    "labels_pred_SVM = svm_classifier.predict(unknown_labels)"
   ]
  },
  {
   "cell_type": "code",
   "execution_count": 75,
   "metadata": {},
   "outputs": [
    {
     "name": "stdout",
     "output_type": "stream",
     "text": [
      "[8. 8. 6. 8. 8. 8. 1. 8. 6. 8. 8. 8. 1. 8. 8. 1. 8. 4. 8. 8. 5. 8. 8. 6.\n",
      " 1. 8. 8. 8. 8. 8. 4. 8. 6. 8. 4. 8. 8. 6. 1. 8. 4. 6. 6. 8. 4. 8. 6. 6.\n",
      " 8. 8. 8. 8. 4. 8. 8. 6. 6. 8. 8. 8. 8. 8. 8. 8. 6. 8. 8. 8. 8. 6. 6. 8.\n",
      " 6. 8. 8. 5. 6. 8. 8. 4. 1. 8. 8. 8. 6. 8. 8. 8. 8. 8. 1. 1. 8. 8. 6. 6.\n",
      " 4. 8. 8. 8. 8. 4. 4. 8. 6. 4. 8. 8. 8. 6. 1. 8. 1. 6. 1. 6. 4. 8. 1. 5.\n",
      " 7. 6. 7. 8. 8. 8. 6. 5. 8. 1. 6. 1. 4. 1. 8. 8. 8. 8. 6. 6. 1. 8. 8. 8.\n",
      " 6. 8. 6. 8. 8. 6. 8. 6. 8. 5. 8. 8. 5. 5. 6. 5. 8. 5. 8. 6. 1. 8. 8. 8.\n",
      " 6. 5. 6. 8. 6. 4. 4. 6. 6. 2. 8. 1. 8. 8. 8. 6. 8. 1. 8. 6. 5. 8. 8. 8.\n",
      " 6. 8. 8. 6. 8. 8. 6. 6. 8. 6. 8. 5. 6. 8. 6. 8. 6. 8. 4. 6. 8. 1. 2. 6.\n",
      " 8. 8. 6. 6. 6. 6. 8. 8. 8. 4. 6. 6. 8. 8. 1. 8. 8. 1. 8. 6. 8. 8. 8. 8.\n",
      " 4. 8. 8. 8. 1. 8. 8. 6. 5. 8. 1. 8. 8. 8. 8. 6. 8. 8. 6. 6. 8. 8. 4. 7.\n",
      " 8. 8. 6. 1. 8. 6. 8. 5. 8. 1. 6. 1. 5. 8. 8. 8. 8. 4. 6. 5. 4. 6. 4. 1.\n",
      " 8. 6. 8. 6. 8. 6. 8. 1. 8. 1. 8. 1. 8. 8. 8. 1. 4. 8. 2. 8. 8. 8. 8. 1.\n",
      " 4. 2. 4. 6. 6. 5. 8. 5. 6. 5. 2. 8. 8. 6. 5. 4. 1. 8. 8. 6. 8. 5. 1. 6.\n",
      " 8. 6. 8. 8. 8. 1. 8. 1. 8. 8. 4. 6. 6. 8. 6. 6. 8. 8. 8. 8. 8. 1. 8. 5.\n",
      " 8. 8. 5. 6. 6. 8. 4. 8. 8. 6. 5. 8. 6. 1. 8. 6. 5. 8. 6. 6. 8. 4. 6. 4.\n",
      " 1. 5. 6. 8. 8. 5. 5. 4. 8. 8. 8. 4. 4. 8. 8. 1. 6. 8. 8. 8. 1. 6. 8. 8.\n",
      " 1. 1. 8. 8. 6. 1. 6. 6. 8. 8. 8. 8. 8. 6. 8. 6. 6. 8. 8. 8. 8. 8. 8. 8.\n",
      " 6. 8. 8. 8. 8. 5. 8. 8. 8. 8. 8. 8. 5. 8. 8. 1. 8. 8. 8. 1. 6. 8. 8. 8.\n",
      " 8. 5. 8. 6. 1. 8. 8. 5. 6. 6. 4. 8. 6. 8. 1. 1. 5. 6. 8. 6. 6. 8. 8. 5.\n",
      " 8. 6. 1. 1. 8. 1. 1. 6. 8. 8. 8. 4. 8. 6. 1. 8. 4. 8. 8. 5. 8. 6. 8. 6.\n",
      " 8. 5. 6. 8. 8. 4. 5. 5. 8. 8. 4. 5. 8. 8. 8. 5. 6. 6. 8. 6. 8. 4. 8. 8.\n",
      " 8. 8. 8. 8. 8. 8. 8. 8. 6. 6. 8. 8. 8. 6. 8. 6. 8. 8. 6. 6. 8. 8. 8. 8.\n",
      " 8. 8. 6. 5. 8. 6. 6. 8. 8. 8. 8. 8. 8. 8. 8. 6. 6. 8. 1. 4. 8. 8. 8. 5.\n",
      " 8. 8. 8. 8. 6. 6. 6. 6. 8. 8. 1. 5. 8. 5. 8. 6. 4. 4. 8. 6. 8. 4. 8. 8.\n",
      " 8. 8. 8. 8. 5. 6. 1. 8. 8. 1. 8. 8. 8. 8. 8. 6. 8. 5. 8. 5. 1. 4. 8. 8.\n",
      " 4. 8. 8. 2. 8. 6. 6. 8. 8. 6. 6. 8. 1. 8. 8. 1. 8. 8. 5. 4. 6. 8. 8. 8.\n",
      " 2. 8. 8. 8. 5. 6. 8. 6. 6. 8. 1. 4. 8. 1. 8. 8. 8. 8. 6. 8. 6. 8. 8. 8.\n",
      " 8. 8. 8. 7. 8. 8. 8. 4. 8. 8. 8. 1. 8. 8. 1. 8. 5. 8. 8. 8. 6. 1. 8. 8.\n",
      " 8. 5. 6. 8. 6.]\n"
     ]
    }
   ],
   "source": [
    "print(labels_pred_SVM)"
   ]
  },
  {
   "cell_type": "code",
   "execution_count": 76,
   "metadata": {},
   "outputs": [],
   "source": [
    "np.savetxt('predicted_svm.csv', labels_pred_SVM, delimiter=',')"
   ]
  }
 ],
 "metadata": {
  "kernelspec": {
   "display_name": "Python 3",
   "language": "python",
   "name": "python3"
  },
  "language_info": {
   "codemirror_mode": {
    "name": "ipython",
    "version": 3
   },
   "file_extension": ".py",
   "mimetype": "text/x-python",
   "name": "python",
   "nbconvert_exporter": "python",
   "pygments_lexer": "ipython3",
   "version": "3.7.9"
  }
 },
 "nbformat": 4,
 "nbformat_minor": 4
}
